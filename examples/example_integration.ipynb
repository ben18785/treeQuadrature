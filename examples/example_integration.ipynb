{
 "cells": [
  {
   "cell_type": "code",
   "execution_count": 1,
   "metadata": {
    "collapsed": true
   },
   "outputs": [],
   "source": [
    "import numpy as np\n",
    "import treeQuadrature as tq"
   ]
  },
  {
   "cell_type": "code",
   "execution_count": 2,
   "metadata": {
    "collapsed": true
   },
   "outputs": [],
   "source": [
    "class SimpleGaussian:\n",
    "    '''\n",
    "    Likelihood: N(0, 1/(10*sqrt(2)))\n",
    "    Prior: U(-1, 1)\n",
    "    '''\n",
    "    def __init__(self, D):\n",
    "        self.D = D\n",
    "        self.d = tq.exampleDistributions.MultivariateNormal(D=D, mean=[0.0]*D, cov=1/200)\n",
    "        self.low = -1.0\n",
    "        self.high = 1.0\n",
    "        self.p = tq.exampleDistributions.Uniform(D=D, low=self.low, high=self.high)\n",
    "        \n",
    "        # Calculate truth\n",
    "        self.answer = 1/(2.0**D)\n",
    "        \n",
    "    def pdf(self, X):\n",
    "        # Combined pdf ie d(x)*p(x)\n",
    "        return self.d.pdf(X) * self.p.pdf(X)"
   ]
  },
  {
   "cell_type": "markdown",
   "metadata": {},
   "source": [
    "$$ \\int_{-1}^{1}d(x)p(x) dx $$"
   ]
  },
  {
   "cell_type": "markdown",
   "metadata": {},
   "source": [
    "$$ 1/(2^D) \\cdot \\int_{-1}^{1}d(x) dx $$"
   ]
  },
  {
   "cell_type": "code",
   "execution_count": 12,
   "metadata": {
    "collapsed": true
   },
   "outputs": [],
   "source": [
    "from queue import SimpleQueue\n",
    "\n",
    "# Define the Integrator we gonna be testing today\n",
    "class SimpleIntegrator:\n",
    "    '''\n",
    "    A simple integrator has the following pattern:\n",
    "        - Draw <N> samples\n",
    "        - Keep performing <split> method on containers...\n",
    "        - ...until each container has less than <P> samples\n",
    "        - Then perform  <integral> on each container and sum.\n",
    "    '''\n",
    "    \n",
    "    def __init__(self, N, P):\n",
    "        self.N = N\n",
    "        self.P = P\n",
    "        \n",
    "    def __call__(self, problem):        \n",
    "        # Draw samples\n",
    "        X = problem.d.rvs(self.N)\n",
    "        self._X = X\n",
    "        y = problem.pdf(X)\n",
    "        \n",
    "        # Construct root container\n",
    "        D = problem.D\n",
    "        root = tq.Container(X, y, mins=[problem.low]*D, maxs=[problem.high]*D)\n",
    "        \n",
    "        # Contstruct tree using a FIFO queue\n",
    "        finished_containers = []\n",
    "        q = SimpleQueue()\n",
    "        q.put(root)\n",
    "\n",
    "        while not q.empty():\n",
    "\n",
    "            c = q.get()\n",
    "\n",
    "            if c.N <= self.P:\n",
    "                finished_containers.append(c)\n",
    "            else:\n",
    "                children = tq.splits.kdSplit(c)\n",
    "                for child in children:\n",
    "                    q.put(child)\n",
    "\n",
    "        # Integrate containers\n",
    "        contributions = [tq.containerIntegration.randomIntegral(cont, problem.pdf, n=40) for cont in finished_containers]\n",
    "        G = np.sum(contributions)\n",
    "        \n",
    "        return G, finished_containers, contributions"
   ]
  },
  {
   "cell_type": "code",
   "execution_count": 307,
   "metadata": {
    "collapsed": true
   },
   "outputs": [],
   "source": [
    "N = 100_000\n",
    "P = 10\n",
    "\n",
    "problem = SimpleGaussian(9)\n",
    "integ = SimpleIntegrator(N, P)\n",
    "G, fcs, cs1 = integ(problem)"
   ]
  },
  {
   "cell_type": "code",
   "execution_count": 308,
   "metadata": {},
   "outputs": [
    {
     "name": "stdout",
     "output_type": "stream",
     "text": [
      "pcntError: -73.09745324253377\n"
     ]
    }
   ],
   "source": [
    "import matplotlib.pyplot as plt\n",
    "from matplotlib import cm\n",
    "\n",
    "# fig = plt.figure(figsize=(8,8))\n",
    "# ax = fig.add_subplot()\n",
    "# ax.set_xlim([-0.3,0.3])\n",
    "# ax.set_ylim([-0.3,0.3])\n",
    "# cmap = cm.get_cmap('YlOrRd', 256)\n",
    "\n",
    "cs = tq.utils.scale(cs1)\n",
    "\n",
    "print(f'pcntError: {100 * (G - problem.answer) / problem.answer}')\n",
    "\n",
    "# for container, contribution in zip(fcs, cs):\n",
    "#     tq.visualisation.plotContainer(ax, container, plot_samples=False, fill=True, ec='black', facecolor=cmap(contribution), alpha=0.4)"
   ]
  },
  {
   "cell_type": "code",
   "execution_count": 309,
   "metadata": {
    "collapsed": true
   },
   "outputs": [],
   "source": [
    "def remove_small(nremove, cs, fcs):\n",
    "    a, b = zip(*sorted(zip(cs, fcs)))\n",
    "    I = np.zeros(nremove+1)\n",
    "    I[0] = np.sum(a)\n",
    "    arunning = np.sum(a)\n",
    "    total = 100_000\n",
    "    nrunning = 100_000\n",
    "    for i in range(nremove):\n",
    "        atemp = a[i]\n",
    "        arunning -= atemp\n",
    "        nrunning -= b[i].N\n",
    "        I[i + 1] = total / nrunning * arunning\n",
    "    return I"
   ]
  },
  {
   "cell_type": "code",
   "execution_count": 310,
   "metadata": {},
   "outputs": [
    {
     "data": {
      "text/plain": [
       "0.001953125"
      ]
     },
     "execution_count": 310,
     "metadata": {},
     "output_type": "execute_result"
    }
   ],
   "source": [
    "problem.answer"
   ]
  },
  {
   "cell_type": "code",
   "execution_count": 311,
   "metadata": {},
   "outputs": [
    {
     "data": {
      "image/png": "[encoded data removed]",
      "text/plain": [
       "<Figure size 432x288 with 1 Axes>"
      ]
     },
     "metadata": {
      "needs_background": "light"
     },
     "output_type": "display_data"
    }
   ],
   "source": [
    "plt.plot(remove_small(16000, cs1, fcs))\n",
    "plt.show()"
   ]
  },
  {
   "cell_type": "code",
   "execution_count": 585,
   "metadata": {},
   "outputs": [],
   "source": [
    "def remove_big_container_vols(nremove, cs, fcs):\n",
    "    vols = [x.volume for x in fcs]\n",
    "    vols, a, b = zip(*sorted(zip(vols, cs, fcs), reverse=True))\n",
    "    I = np.zeros(nremove+1)\n",
    "    I[0] = np.sum(a)\n",
    "    arunning = np.sum(a)\n",
    "    total = 100_000\n",
    "    nrunning = 100_000\n",
    "    for i in range(nremove):\n",
    "        atemp = a[i]\n",
    "        arunning -= atemp\n",
    "        nrunning -= b[i].N\n",
    "        I[i + 1] = total / nrunning * arunning\n",
    "    return I, vols"
   ]
  },
  {
   "cell_type": "code",
   "execution_count": 831,
   "metadata": {},
   "outputs": [],
   "source": [
    "N = 100_000\n",
    "P = 10\n",
    "\n",
    "problem = SimpleGaussian(10)\n",
    "integ = SimpleIntegrator(N, P)\n",
    "G, fcs, cs1 = integ(problem)\n",
    "I, vols = remove_big_container_vols(len(cs1)-100, cs1, fcs)"
   ]
  },
  {
   "cell_type": "code",
   "execution_count": 958,
   "metadata": {},
   "outputs": [
    {
     "name": "stdout",
     "output_type": "stream",
     "text": [
      "-1.2646762877034035\n"
     ]
    },
    {
     "data": {
      "image/png": "[encoded data removed]",
      "text/plain": [
       "<Figure size 432x288 with 1 Axes>"
      ]
     },
     "metadata": {
      "needs_background": "light"
     },
     "output_type": "display_data"
    }
   ],
   "source": [
    "print(100 * (G - problem.answer) / problem.answer)\n",
    "plt.plot(I/I[0])\n",
    "plt.hlines(problem.answer/I[0], xmin=0, xmax=len(I))\n",
    "plt.yscale('log')\n",
    "plt.ylim(0.1, 3)\n",
    "plt.show()"
   ]
  },
  {
   "cell_type": "code",
   "execution_count": 835,
   "metadata": {},
   "outputs": [
    {
     "name": "stdout",
     "output_type": "stream",
     "text": [
      "-48.85589736920788\n"
     ]
    },
    {
     "data": {
      "image/png": "[encoded data removed]",
      "text/plain": [
       "<Figure size 432x288 with 1 Axes>"
      ]
     },
     "metadata": {
      "needs_background": "light"
     },
     "output_type": "display_data"
    }
   ],
   "source": [
    "print(100 * (G - problem.answer) / problem.answer)\n",
    "plt.scatter((sum(vols)-np.cumsum(vols[1:(len(cs1)-100+2)]))/sum(vols), cs1[1:(len(cs1)-100+2)])\n",
    "# plt.hlines(problem.answer, xmin=0, xmax=len(I))\n",
    "plt.xscale('log')\n",
    "plt.yscale('log')\n",
    "plt.show()"
   ]
  },
  {
   "cell_type": "code",
   "execution_count": 836,
   "metadata": {},
   "outputs": [
    {
     "data": {
      "text/plain": [
       "-53.802133406492004"
      ]
     },
     "execution_count": 836,
     "metadata": {},
     "output_type": "execute_result"
    }
   ],
   "source": [
    "(np.mean(I)-problem.answer)/problem.answer*100"
   ]
  },
  {
   "cell_type": "code",
   "execution_count": 837,
   "metadata": {},
   "outputs": [
    {
     "data": {
      "image/png": "[encoded data removed]",
      "text/plain": [
       "<Figure size 432x288 with 1 Axes>"
      ]
     },
     "metadata": {
      "needs_background": "light"
     },
     "output_type": "display_data"
    }
   ],
   "source": [
    "vols = [x.volume for x in fcs]\n",
    "plt.scatter(np.log10(vols), np.log10(cs1))\n",
    "plt.show()"
   ]
  },
  {
   "cell_type": "code",
   "execution_count": 838,
   "metadata": {},
   "outputs": [
    {
     "data": {
      "image/png": "[encoded data removed]",
      "text/plain": [
       "<Figure size 432x288 with 1 Axes>"
      ]
     },
     "metadata": {
      "needs_background": "light"
     },
     "output_type": "display_data"
    }
   ],
   "source": [
    "a, vols, b = zip(*sorted(zip(cs1, vols, fcs), reverse=True))\n",
    "fns = np.array(a)/np.array(vols)\n",
    "fns, a, vols, b = zip(*sorted(zip(fns, cs1, vols, fcs), reverse=True))\n",
    "tot_vols = sum(vols)\n",
    "vols_cumulant = np.cumsum(vols) / tot_vols\n",
    "plt.scatter(vols_cumulant1, fns1)\n",
    "plt.scatter(vols_cumulant, fns)\n",
    "plt.yscale('log')\n",
    "plt.xscale('log')\n",
    "plt.show()"
   ]
  },
  {
   "cell_type": "code",
   "execution_count": 839,
   "metadata": {},
   "outputs": [
    {
     "data": {
      "image/png": "[encoded data removed]",
      "text/plain": [
       "<Figure size 432x288 with 1 Axes>"
      ]
     },
     "metadata": {
      "needs_background": "light"
     },
     "output_type": "display_data"
    }
   ],
   "source": [
    "a, vols, b = zip(*sorted(zip(cs1, vols, fcs), reverse=True))\n",
    "vols_cumulant = np.cumsum(vols) / tot_vols\n",
    "a_cumulant = np.cumsum(a) / np.sum(a)\n",
    "plt.scatter(vols_cumulant, a_cumulant)\n",
    "plt.xscale('log')\n",
    "plt.ylim(0.01, 1.05)\n",
    "plt.show()"
   ]
  },
  {
   "cell_type": "code",
   "execution_count": 840,
   "metadata": {},
   "outputs": [
    {
     "data": {
      "image/png": "[encoded data removed]",
      "text/plain": [
       "<Figure size 432x288 with 1 Axes>"
      ]
     },
     "metadata": {
      "needs_background": "light"
     },
     "output_type": "display_data"
    }
   ],
   "source": [
    "vols, a, b = zip(*sorted(zip(vols, cs1, fcs)))\n",
    "vols_cumulant = np.cumsum(vols) / tot_vols\n",
    "a_cumulant = np.cumsum(a) / np.sum(a)\n",
    "plt.scatter(vols_cumulant, a_cumulant)\n",
    "plt.xscale('log')\n",
    "plt.yscale('log')\n",
    "plt.ylim(0.01, 1.1)\n",
    "plt.show()"
   ]
  },
  {
   "cell_type": "code",
   "execution_count": 841,
   "metadata": {},
   "outputs": [
    {
     "data": {
      "image/png": "[encoded data removed]",
      "text/plain": [
       "<Figure size 432x288 with 1 Axes>"
      ]
     },
     "metadata": {
      "needs_background": "light"
     },
     "output_type": "display_data"
    }
   ],
   "source": [
    "plt.hist(np.log10(a), 100)\n",
    "plt.show()"
   ]
  },
  {
   "cell_type": "code",
   "execution_count": 363,
   "metadata": {},
   "outputs": [],
   "source": [
    "def error(D, total_N=100_000, P=10):\n",
    "    \n",
    "    def remove_big_container_vols(nremove, cs, fcs):\n",
    "        vols = [x.volume for x in fcs]\n",
    "        vols, a, b = zip(*sorted(zip(vols, cs, fcs), reverse=True))\n",
    "        I = np.zeros(nremove+1)\n",
    "        I[0] = np.sum(a)\n",
    "        arunning = np.sum(a)\n",
    "        total = total_N\n",
    "        nrunning = total_N\n",
    "        for i in range(nremove):\n",
    "            atemp = a[i]\n",
    "            arunning -= atemp\n",
    "            nrunning -= b[i].N\n",
    "            I[i + 1] = total / nrunning * arunning\n",
    "        return I\n",
    "\n",
    "    problem = SimpleGaussian(D)\n",
    "    integ = SimpleIntegrator(total_N, P)\n",
    "    G, fcs, cs1 = integ(problem)\n",
    "    I = remove_big_container_vols(len(cs1)-100, cs1, fcs)\n",
    "    return (G-problem.answer)/problem.answer*100, (np.mean(I)-problem.answer)/problem.answer*100"
   ]
  },
  {
   "cell_type": "code",
   "execution_count": 364,
   "metadata": {
    "collapsed": true
   },
   "outputs": [],
   "source": [
    "nreplicates = 50\n",
    "D=9\n",
    "raw_error = np.zeros(nreplicates)\n",
    "corrected_error=np.zeros(nreplicates)\n",
    "for i in range(nreplicates):\n",
    "    a, b = error(D)\n",
    "    raw_error[i] = a\n",
    "    corrected_error[i] = b"
   ]
  },
  {
   "cell_type": "code",
   "execution_count": 365,
   "metadata": {},
   "outputs": [
    {
     "data": {
      "image/png": "[encoded data removed]",
      "text/plain": [
       "<Figure size 432x288 with 1 Axes>"
      ]
     },
     "metadata": {
      "needs_background": "light"
     },
     "output_type": "display_data"
    }
   ],
   "source": [
    "plt.hist(raw_error)\n",
    "plt.hist(corrected_error)\n",
    "plt.legend([\"Raw % error\", \"Corrected % error\"])\n",
    "plt.show()"
   ]
  },
  {
   "cell_type": "code",
   "execution_count": 335,
   "metadata": {},
   "outputs": [
    {
     "data": {
      "text/plain": [
       "52.83083487774913"
      ]
     },
     "execution_count": 335,
     "metadata": {},
     "output_type": "execute_result"
    }
   ],
   "source": [
    "np.std(corrected_error)"
   ]
  },
  {
   "cell_type": "code",
   "execution_count": 341,
   "metadata": {},
   "outputs": [
    {
     "data": {
      "text/plain": [
       "[1.6557943788685557e-82,\n",
       " 1.5916330594846939e-47,\n",
       " 1.8569402874853143e-60,\n",
       " 7.501052881019179e-35,\n",
       " 9.252181764073467e-48,\n",
       " 2.055473102804939e-53,\n",
       " 1.6384152958662606e-48,\n",
       " 1.2871713825441556e-11,\n",
       " 7.180466044386502e-49,\n",
       " 1.48322443061946e-53,\n",
       " 7.768328743692688e-37,\n",
       " 7.321811097941964e-32,\n",
       " 2.2474176520686723e-43,\n",
       " 4.258165241365453e-24,\n",
       " 2.5544663268972715e-54,\n",
       " 7.399579758042864e-31,\n",
       " 1.2827470210529901e-57,\n",
       " 1.3046752355167338e-36,\n",
       " 3.6531748718521444e-36,\n",
       " 4.862829553749334e-37,\n",
       " 4.899128394911891e-30,\n",
       " 5.27561849207057e-44,\n",
       " 5.990332398609674e-28,\n",
       " 1.5341794151001646e-17,\n",
       " 2.2341742630664808e-24,\n",
       " 8.197548118609529e-30,\n",
       " 1.651967611593273e-27,\n",
       " 1.595422718563173e-21,\n",
       " 6.436558933142749e-34,\n",
       " 1.9294999823148525e-14,\n",
       " 1.99534761243525e-14,\n",
       " 3.41225980277869e-17,\n",
       " 6.672515403767076e-59,\n",
       " 1.9563992810119343e-45,\n",
       " 4.749805849162398e-63,\n",
       " 5.641426223448841e-23,\n",
       " 3.063620711091048e-48,\n",
       " 1.5877453003796188e-32,\n",
       " 1.165056776362253e-37,\n",
       " 1.59421634309421e-33,\n",
       " 4.0950500367676056e-42,\n",
       " 1.6581275201553273e-31,\n",
       " 7.00463506822823e-42,\n",
       " 8.60876128334918e-43,\n",
       " 6.281268712766465e-29,\n",
       " 8.204840526627803e-31,\n",
       " 4.440992626180646e-17,\n",
       " 2.0233070393749269e-16,\n",
       " 3.8555528597428087e-32,\n",
       " 1.2575875598525803e-37,\n",
       " 4.8493371828464383e-63,\n",
       " 1.097363270539425e-37,\n",
       " 1.1146809559829185e-20,\n",
       " 2.202540515811569e-14,\n",
       " 3.752728975715032e-32,\n",
       " 2.58757997475541e-27,\n",
       " 2.1499010160217592e-41,\n",
       " 2.100484217168149e-20,\n",
       " 1.612369584395941e-33,\n",
       " 4.241133313544693e-22,\n",
       " 4.055244756037487e-28,\n",
       " 6.58379749868927e-20,\n",
       " 1.5848326683510877e-39,\n",
       " 5.862646506849808e-14,\n",
       " 1.6565174325942584e-47,\n",
       " 2.8019321246249405e-37,\n",
       " 1.6936066829026927e-71,\n",
       " 1.1543125955898677e-63,\n",
       " 3.213927919869688e-55,\n",
       " 6.899833687473123e-51,\n",
       " 5.199059002920062e-47,\n",
       " 3.2853216848341016e-24,\n",
       " 3.680630075121858e-47,\n",
       " 1.8670382687141245e-61,\n",
       " 2.6809188013197215e-17,\n",
       " 2.92801804082721e-35,\n",
       " 7.541124366922242e-37,\n",
       " 5.3274669276140864e-27,\n",
       " 1.168717557376371e-30,\n",
       " 9.884422301364227e-22,\n",
       " 1.9183273446535756e-46,\n",
       " 8.790337513716612e-24,\n",
       " 2.2780775577738304e-31,\n",
       " 2.0528970893470882e-15,\n",
       " 4.33856845155649e-34,\n",
       " 7.659694345932931e-24,\n",
       " 1.7514196585448165e-28,\n",
       " 1.6989744094276615e-26,\n",
       " 2.080330218918931e-36,\n",
       " 2.0051801931319143e-17,\n",
       " 5.972772912203606e-23,\n",
       " 9.558481538115355e-29,\n",
       " 5.94537332093562e-23,\n",
       " 1.2929850882953862e-15,\n",
       " 2.597245118043686e-28,\n",
       " 2.6858647825122616e-21,\n",
       " 2.7253869059127275e-77,\n",
       " 2.5247213029822206e-48,\n",
       " 3.0400574160468283e-53,\n",
       " 1.6759818154395993e-63,\n",
       " 1.5610132060343785e-55,\n",
       " 2.913771510934535e-28,\n",
       " 3.015380499956249e-26,\n",
       " 3.4429840029154306e-55,\n",
       " 7.996815316034885e-18,\n",
       " 7.22433762250237e-49,\n",
       " 4.182479579107991e-43,\n",
       " 4.1301934131384297e-47,\n",
       " 9.270127783831982e-54,\n",
       " 4.0146259015920734e-45,\n",
       " 8.329146183228552e-29,\n",
       " 5.455908419627875e-22,\n",
       " 2.956649566021014e-44,\n",
       " 4.441422498191791e-34,\n",
       " 2.7237314823848646e-35,\n",
       " 1.005856084729529e-22,\n",
       " 5.579270752879554e-16,\n",
       " 8.524667234421411e-08,\n",
       " 2.3222952086548305e-32,\n",
       " 1.0775349276895026e-32,\n",
       " 3.923991380731745e-20,\n",
       " 1.8739152088757177e-30,\n",
       " 4.2539764228714563e-54,\n",
       " 1.0962315292474808e-28,\n",
       " 5.2618504530856426e-33,\n",
       " 1.353925164974906e-15,\n",
       " 2.429028140611067e-36,\n",
       " 1.3851778461421556e-25,\n",
       " 1.1402315517789306e-72,\n",
       " 3.8041412985017066e-55,\n",
       " 1.5188588648223768e-54,\n",
       " 1.0398615373459485e-50,\n",
       " 6.804171627617124e-34,\n",
       " 6.231932057556019e-44,\n",
       " 1.6943516589402204e-35,\n",
       " 5.2220104549052985e-33,\n",
       " 3.4720626547151585e-24,\n",
       " 4.209845031327953e-43,\n",
       " 1.4384269883185782e-45,\n",
       " 2.5208155494393157e-33,\n",
       " 1.8598504492000403e-35,\n",
       " 2.188709113606087e-15,\n",
       " 4.9528316577310755e-24,\n",
       " 8.583136019890218e-17,\n",
       " 2.8263139039492922e-31,\n",
       " 1.0555621028087539e-41,\n",
       " 6.654382163946244e-47,\n",
       " 3.219331928994533e-24,\n",
       " 1.7623151565648485e-23,\n",
       " 2.9264291903032655e-46,\n",
       " 4.2372879174382307e-19,\n",
       " 2.406944182701662e-09,\n",
       " 7.720046615772097e-24,\n",
       " 1.219271687491569e-16,\n",
       " 6.996776517009742e-20,\n",
       " 1.4028312304914706e-23,\n",
       " 1.447432598958092e-32,\n",
       " 1.9744350151365663e-24,\n",
       " 6.290728747721817e-26,\n",
       " 9.575915788184474e-11,\n",
       " 8.84018166707894e-22,\n",
       " 2.4826555234417962e-43,\n",
       " 1.885460497717658e-48,\n",
       " 5.903851247082587e-27,\n",
       " 8.637463917755917e-42,\n",
       " 2.3879153597340168e-37,\n",
       " 1.349432751169135e-47,\n",
       " 3.926642698164821e-45,\n",
       " 1.436058648499278e-35,\n",
       " 1.874456714882557e-42,\n",
       " 3.604081551360858e-46,\n",
       " 3.472455293767971e-36,\n",
       " 2.8193525176984994e-42,\n",
       " 3.0752522173867825e-40,\n",
       " 4.575136697639977e-31,\n",
       " 1.1873838912837614e-31,\n",
       " 1.9896031811455393e-47,\n",
       " 2.3419656233738012e-54,\n",
       " 1.927312498211497e-41,\n",
       " 7.304709227119432e-33,\n",
       " 2.315638037263251e-36,\n",
       " 5.491153884861086e-16,\n",
       " 7.6462340542167255e-31,\n",
       " 7.099146601593335e-24,\n",
       " 5.52999553259174e-43,\n",
       " 7.348525200516976e-39,\n",
       " 2.0454691297134642e-08,\n",
       " 1.7455137993851398e-30,\n",
       " 5.1122565267513105e-40,\n",
       " 1.3415821911367727e-12,\n",
       " 1.9227160974410492e-20,\n",
       " 4.129185693075612e-12,\n",
       " 4.906261015181907e-46,\n",
       " 5.048463923050469e-10,\n",
       " 1.1683629413501784e-59,\n",
       " 3.079533924072914e-41,\n",
       " 8.745542574669973e-24,\n",
       " 7.098001704563698e-44,\n",
       " 4.722642876624365e-50,\n",
       " 5.8817820814316795e-52,\n",
       " 3.375096672685604e-39,\n",
       " 8.030502234606972e-47,\n",
       " 1.1802352228228016e-47,\n",
       " 9.201613923113264e-40,\n",
       " 4.3094957686311943e-26,\n",
       " 7.263280887106021e-35,\n",
       " 2.5690384387625776e-43,\n",
       " 6.431840342688425e-35,\n",
       " 7.62088729335688e-36,\n",
       " 9.207508460260629e-32,\n",
       " 1.4337573443113674e-22,\n",
       " 1.4304645064032192e-16,\n",
       " 7.276881750317651e-44,\n",
       " 2.6484262907181424e-34,\n",
       " 2.718196325782518e-38,\n",
       " 2.1974886526738936e-25,\n",
       " 2.7449608636598862e-27,\n",
       " 1.3662846383895136e-28,\n",
       " 3.8623885994588576e-26,\n",
       " 2.7970100766476334e-41,\n",
       " 3.500525631785138e-16,\n",
       " 1.279627517852085e-36,\n",
       " 1.424012519570647e-32,\n",
       " 9.009902903550262e-23,\n",
       " 6.604521239261736e-48,\n",
       " 1.4255852161485995e-23,\n",
       " 5.3868541109190085e-37,\n",
       " 2.4503619761785474e-40,\n",
       " 2.3184241102998806e-47,\n",
       " 1.8524921399141333e-88,\n",
       " 2.650688617941468e-23,\n",
       " 1.2973372472702257e-55,\n",
       " 2.3764766907526356e-43,\n",
       " 1.5015505637072755e-25,\n",
       " 1.3793767562912811e-11,\n",
       " 2.9239414970215696e-22,\n",
       " 2.591477978614012e-29,\n",
       " 4.532456412869878e-18,\n",
       " 2.012274244411541e-34,\n",
       " 9.268288685945043e-35,\n",
       " 2.1905776920112286e-28,\n",
       " 3.553690735029813e-22,\n",
       " 2.5477186449990726e-41,\n",
       " 3.329693310397221e-45,\n",
       " 6.532375912309297e-18,\n",
       " 5.09151198856604e-14,\n",
       " 1.479364088109519e-14,\n",
       " 4.575408266808963e-20,\n",
       " 1.2995189316028882e-17,\n",
       " 8.283228853266004e-30,\n",
       " 1.5677993544641158e-09,\n",
       " 8.00193329209773e-48,\n",
       " 8.98150233989098e-16,\n",
       " 2.0777027904568704e-32,\n",
       " 1.518851582334988e-25,\n",
       " 1.6636711416054486e-19,\n",
       " 8.866259186048212e-53,\n",
       " 7.106453179506017e-36,\n",
       " 9.279299843294123e-47,\n",
       " 6.313832576404471e-18,\n",
       " 2.333189020568952e-37,\n",
       " 2.006219805961809e-27,\n",
       " 2.565825758643438e-37,\n",
       " 7.572423794728626e-27,\n",
       " 4.1348586649093355e-65,\n",
       " 1.3115576489579925e-50,\n",
       " 1.768936707029101e-41,\n",
       " 3.0427141380129573e-31,\n",
       " 3.054137888850474e-41,\n",
       " 3.111668636271594e-36,\n",
       " 5.914611479701445e-41,\n",
       " 4.978477985259046e-29,\n",
       " 1.1232845648714409e-51,\n",
       " 8.436694521527147e-15,\n",
       " 9.733931405509172e-41,\n",
       " 6.92695678818837e-25,\n",
       " 1.4496809289555574e-46,\n",
       " 5.292691832103333e-15,\n",
       " 4.540171273376488e-40,\n",
       " 1.0023186193886335e-15,\n",
       " 3.659487369451051e-38,\n",
       " 4.8026997693009147e-26,\n",
       " 2.8899419352754798e-33,\n",
       " 6.123370952235063e-17,\n",
       " 1.0158340676013227e-33,\n",
       " 6.630898441948316e-25,\n",
       " 3.7445895952461605e-20,\n",
       " 2.680181104250513e-14,\n",
       " 2.113803873763982e-44,\n",
       " 2.2711980963594375e-25,\n",
       " 2.689948023181106e-29,\n",
       " 2.5896544075091852e-33,\n",
       " 8.823446886845527e-28,\n",
       " 3.3266944487106762e-12,\n",
       " 4.3001009920807856e-23,\n",
       " 9.089049255681852e-21,\n",
       " 9.09877801996544e-16,\n",
       " 3.3718719006008037e-29,\n",
       " 3.969652740114723e-64,\n",
       " 8.460532741029264e-52,\n",
       " 3.845270312660493e-55,\n",
       " 1.3738339178075482e-15,\n",
       " 3.625581405507749e-27,\n",
       " 4.154582678831703e-42,\n",
       " 4.6272721986917475e-37,\n",
       " 1.2810333902527988e-25,\n",
       " 2.219730592670169e-30,\n",
       " 2.0439651936365785e-24,\n",
       " 8.475577395933368e-32,\n",
       " 6.186455618580807e-18,\n",
       " 5.373213227410569e-28,\n",
       " 1.18333300386207e-17,\n",
       " 1.6170368365141983e-15,\n",
       " 8.768498946469381e-48,\n",
       " 1.0557703597705013e-24,\n",
       " 1.837234115747455e-24,\n",
       " 3.4816528417519724e-30,\n",
       " 1.3916716536770526e-31,\n",
       " 1.7288353250886483e-06,\n",
       " 2.204995437233209e-14,\n",
       " 9.960620737636712e-58,\n",
       " 8.384976486536753e-41,\n",
       " 2.8614190527862664e-29,\n",
       " 8.4636926569797e-68,\n",
       " 4.2009063017640994e-65,\n",
       " 3.167983301277696e-54,\n",
       " 2.8436591681315276e-47,\n",
       " 2.8765062727419148e-34,\n",
       " 1.176532717646963e-26,\n",
       " 4.050637964917903e-28,\n",
       " 7.1198505333262e-30,\n",
       " 7.361343450901956e-27,\n",
       " 1.148686701022602e-40,\n",
       " 1.2154313931404064e-41,\n",
       " 3.343547858633722e-56,\n",
       " 3.412248075404641e-36,\n",
       " 1.751127383187273e-71,\n",
       " 1.3317324060038817e-46,\n",
       " 1.670974339799802e-17,\n",
       " 8.817415778506247e-29,\n",
       " 8.875658819865259e-34,\n",
       " 5.471965677511172e-16,\n",
       " 8.346477796927735e-26,\n",
       " 2.201999991811085e-27,\n",
       " 4.4973646572962794e-42,\n",
       " 4.354678537710537e-24,\n",
       " 1.6737359863308668e-14,\n",
       " 2.6235008174122374e-32,\n",
       " 7.331146552011142e-35,\n",
       " 6.204908070716259e-23,\n",
       " 2.6949170356244017e-15,\n",
       " 2.0314050301995754e-23,\n",
       " 9.553438272768356e-33,\n",
       " 4.3077672008394427e-48,\n",
       " 1.9392402379776172e-41,\n",
       " 1.0059711206209964e-18,\n",
       " 2.1631724014976628e-36,\n",
       " 1.2076245016077122e-51,\n",
       " 9.965070062441858e-48,\n",
       " 2.7309143305219845e-51,\n",
       " 2.9543313454247584e-18,\n",
       " 1.8966163328394204e-47,\n",
       " 6.484385897525271e-42,\n",
       " 1.0435598655763338e-39,\n",
       " 6.408106013722639e-33,\n",
       " 1.2648187560661085e-33,\n",
       " 8.128677035881676e-24,\n",
       " 1.4796023102600344e-24,\n",
       " 2.8789845547176333e-44,\n",
       " 7.215422982666549e-29,\n",
       " 2.1190292820452964e-30,\n",
       " 1.253362819443871e-38,\n",
       " 1.1090886893324391e-21,\n",
       " 1.7606556797060257e-26,\n",
       " 4.580654972409052e-17,\n",
       " 8.360299260926228e-15,\n",
       " 1.274658041282737e-33,\n",
       " 3.0106661637162315e-45,\n",
       " 8.58675536051262e-28,\n",
       " 1.3781103651223996e-14,\n",
       " 4.067108382276196e-50,\n",
       " 1.4429768826547765e-21,\n",
       " 2.8176404823199787e-30,\n",
       " 6.71629908507858e-36,\n",
       " 8.112157117526531e-38,\n",
       " 2.6816100760697127e-22,\n",
       " 1.7214666399076027e-39,\n",
       " 2.945424450719191e-14,\n",
       " 1.7291846253961464e-32,\n",
       " 2.3559428091833578e-34,\n",
       " 5.214682484106455e-29,\n",
       " 1.1529821652107666e-32,\n",
       " 7.563671063727584e-31,\n",
       " 2.3827500353945407e-58,\n",
       " 2.8270157201407404e-55,\n",
       " 1.099543900484578e-53,\n",
       " 2.574524541543449e-60,\n",
       " 2.8420377878739102e-55,\n",
       " 1.7236913937335268e-15,\n",
       " 8.638745889242468e-47,\n",
       " 1.367873140093448e-45,\n",
       " 8.083826095160884e-35,\n",
       " 9.318653087998692e-41,\n",
       " 2.71938972409753e-19,\n",
       " 4.2538868720612854e-29,\n",
       " 4.873795697079824e-20,\n",
       " 5.728915747123021e-25,\n",
       " 1.357417503396282e-21,\n",
       " 1.2905096922249066e-66,\n",
       " 2.4387657156500905e-38,\n",
       " 1.8759072213261874e-36,\n",
       " 3.4992867968533304e-27,\n",
       " 4.7809906967131984e-29,\n",
       " 2.4624489656969e-30,\n",
       " 1.4966222659654815e-40,\n",
       " 4.544817055063906e-34,\n",
       " 6.34286036134041e-57,\n",
       " 1.1258000627798341e-52,\n",
       " 5.627022080131757e-32,\n",
       " 4.4345263392360677e-32,\n",
       " 3.359743735156975e-36,\n",
       " 2.1722455618380452e-26,\n",
       " 1.1732686380466042e-29,\n",
       " 2.5058292818043183e-11,\n",
       " 7.69547855711466e-31,\n",
       " 7.848304110310134e-39,\n",
       " 4.2147943964288596e-59,\n",
       " 2.776639077656909e-56,\n",
       " 2.8687568141466703e-24,\n",
       " 5.039244574412477e-20,\n",
       " 4.070387494963208e-21,\n",
       " 1.9311145078267063e-39,\n",
       " 2.1376651026940267e-27,\n",
       " 2.3609455318314364e-22,\n",
       " 3.0813791010801185e-28,\n",
       " 2.4573378957715642e-39,\n",
       " 0.00013684398550006425,\n",
       " 8.903267740329106e-18,\n",
       " 6.761393431351783e-21,\n",
       " 1.6137690489629633e-21,\n",
       " 5.707161499169807e-30,\n",
       " 4.4977618399837085e-23,\n",
       " 3.1826772690748535e-25,\n",
       " 1.6517363545755924e-14,\n",
       " 3.504191354318824e-27,\n",
       " 6.530436155663475e-13,\n",
       " 5.347706317438689e-38,\n",
       " 7.570426651481772e-26,\n",
       " 2.074920355389035e-07,\n",
       " 2.1524096551015442e-49,\n",
       " 1.236284569720677e-36,\n",
       " 1.3620207737448073e-32,\n",
       " 1.5324646653645409e-24,\n",
       " 1.220832619940687e-50,\n",
       " 1.2727559455911086e-25,\n",
       " 1.0829537179786166e-28,\n",
       " 1.0498376714085862e-15,\n",
       " 9.455821394013795e-10,\n",
       " 1.909669489223259e-33,\n",
       " 1.7467466298080472e-11,\n",
       " 3.112554339973632e-16,\n",
       " 5.676309816399156e-25,\n",
       " 4.194059548462378e-25,\n",
       " 1.0518275126138108e-24,\n",
       " 4.5790912102519675e-41,\n",
       " 3.890859123102162e-29,\n",
       " 1.4679949113258723e-08,\n",
       " 1.91045010225612e-13,\n",
       " 1.1432476644454524e-66,\n",
       " 1.1618483421285099e-37,\n",
       " 3.648946813786267e-43,\n",
       " 1.9112990533357075e-37,\n",
       " 2.741305927065022e-53,\n",
       " 4.0488134710591155e-38,\n",
       " 1.748945937443576e-46,\n",
       " 5.5078228931351305e-33,\n",
       " 1.286969458364477e-62,\n",
       " 4.6688871653651485e-31,\n",
       " 2.7886443904533953e-43,\n",
       " 1.9456950215091327e-27,\n",
       " 1.3401202869644054e-28,\n",
       " 2.9562904953251554e-46,\n",
       " 1.0268876630982985e-38,\n",
       " 3.183431428708203e-14,\n",
       " 2.3217849369952236e-47,\n",
       " 6.662089485508561e-53,\n",
       " 2.23888465557692e-61,\n",
       " 5.822708488500271e-56,\n",
       " 8.769620956778122e-35,\n",
       " 3.2873074931262024e-35,\n",
       " 9.933466418075893e-27,\n",
       " 1.0008623048679605e-57,\n",
       " 5.05841061911689e-28,\n",
       " 1.4048636138632459e-33,\n",
       " 1.1989241199758667e-08,\n",
       " 6.634484210963349e-45,\n",
       " 5.041256426911564e-23,\n",
       " 9.743785855737409e-30,\n",
       " 2.2869395935858593e-34,\n",
       " 2.7529239406359247e-28,\n",
       " 4.4161010699834164e-40,\n",
       " 2.6810799078646034e-41,\n",
       " 3.262543329629621e-18,\n",
       " 6.066662829800174e-22,\n",
       " 3.029741712382298e-12,\n",
       " 1.7521139895112136e-30,\n",
       " 2.4352971758568407e-43,\n",
       " 3.3871710634720434e-29,\n",
       " 2.2040294964923826e-29,\n",
       " 3.169486857162826e-59,\n",
       " 1.1340730364250566e-30,\n",
       " 7.486464544236874e-26,\n",
       " 5.374112573617652e-41,\n",
       " 5.12060257005196e-63,\n",
       " 2.5157850907026413e-68,\n",
       " 2.3594526532596127e-46,\n",
       " 1.3827272716760101e-55,\n",
       " 2.7409367149496075e-30,\n",
       " 9.90909748823403e-19,\n",
       " 8.885084268620963e-23,\n",
       " 7.22788966117399e-53,\n",
       " 3.221146003407113e-36,\n",
       " 2.668387173943781e-38,\n",
       " 1.1512723495165789e-29,\n",
       " 1.1941421294159532e-32,\n",
       " 2.669512188939504e-29,\n",
       " 1.1101125594864735e-12,\n",
       " 7.440590597653318e-34,\n",
       " 7.346838529768021e-25,\n",
       " 2.4359743561010716e-20,\n",
       " 1.686283807329271e-35,\n",
       " 2.2872007202515583e-24,\n",
       " 1.9716641053906913e-38,\n",
       " 6.3005716417804326e-30,\n",
       " 2.3074685219374753e-44,\n",
       " 2.1309210926413324e-33,\n",
       " 4.7766555872397507e-36,\n",
       " 9.62792617863453e-37,\n",
       " 2.2218351552355677e-40,\n",
       " 1.1154241294412164e-14,\n",
       " 8.891596011118594e-15,\n",
       " 4.918844353976703e-21,\n",
       " 4.889367054156366e-08,\n",
       " 5.248882695507901e-26,\n",
       " 5.482931104309436e-44,\n",
       " 2.2101539553385084e-34,\n",
       " 1.2928893607495431e-35,\n",
       " 2.224574740656975e-22,\n",
       " 1.0545610112330901e-42,\n",
       " 2.536131052825347e-40,\n",
       " 1.6081144961556958e-30,\n",
       " 7.009772327620947e-27,\n",
       " 5.153856050288997e-48,\n",
       " 2.844926002058295e-41,\n",
       " 1.8725685775340585e-70,\n",
       " 6.886561648220621e-25,\n",
       " 2.6331334995445686e-63,\n",
       " 1.2266895872081983e-36,\n",
       " 2.0090767552078365e-37,\n",
       " 1.1824646268423664e-13,\n",
       " 1.2097815562189172e-40,\n",
       " 1.332346467901316e-63,\n",
       " 2.3158453931560638e-20,\n",
       " 6.653899598191762e-24,\n",
       " 1.2064825941871648e-31,\n",
       " 1.2040193207988787e-40,\n",
       " 4.74943940121973e-08,\n",
       " 2.6280553069851144e-25,\n",
       " 2.3853888929339178e-26,\n",
       " 4.0375042928133196e-40,\n",
       " 1.9261195271025754e-16,\n",
       " 3.5227434812625375e-21,\n",
       " 1.3922909066908435e-17,\n",
       " 2.9863396803840976e-28,\n",
       " 3.1415599180519548e-22,\n",
       " 2.521527571162991e-07,\n",
       " 1.8323249571609006e-49,\n",
       " 6.193829916313748e-64,\n",
       " 1.996502435213879e-44,\n",
       " 7.230209027579404e-53,\n",
       " 1.217490667998212e-65,\n",
       " 5.933229366500855e-43,\n",
       " 7.968344795068986e-24,\n",
       " 2.1011393004823465e-29,\n",
       " 7.775313934250618e-48,\n",
       " 1.1376927284643925e-57,\n",
       " 1.39404361294585e-24,\n",
       " 2.832090332783486e-48,\n",
       " 9.398565435950655e-60,\n",
       " 3.2530955828232027e-25,\n",
       " 3.5117486828992734e-18,\n",
       " 2.0916929218195824e-19,\n",
       " 1.4488206078172744e-29,\n",
       " 1.16575919372683e-36,\n",
       " 4.92713531684896e-16,\n",
       " 3.4243587760644097e-12,\n",
       " 3.228633343492906e-36,\n",
       " 1.0600491118465974e-52,\n",
       " 2.2091860041863644e-40,\n",
       " 2.528749511470053e-32,\n",
       " 1.6183785214464304e-31,\n",
       " 9.625534376720095e-42,\n",
       " 1.1496499142141246e-53,\n",
       " 4.0888869522935055e-45,\n",
       " 2.511221834733319e-33,\n",
       " 4.533997457356849e-37,\n",
       " 6.364590218536732e-42,\n",
       " 3.848302661690482e-18,\n",
       " 1.2524616965954956e-40,\n",
       " 1.0925929276725699e-13,\n",
       " 6.404930775044848e-36,\n",
       " 9.975848818978204e-37,\n",
       " 6.912378799342708e-50,\n",
       " 2.0313860667246586e-11,\n",
       " 1.4655171769692984e-43,\n",
       " 4.0094622862637e-42,\n",
       " 3.3282234114914934e-42,\n",
       " 7.216533712828301e-46,\n",
       " 1.0778794598427144e-25,\n",
       " 6.463907304805566e-26,\n",
       " 1.0094973729484009e-22,\n",
       " 2.1013713523886374e-26,\n",
       " 1.9150029351307424e-20,\n",
       " 1.1902428549423931e-24,\n",
       " 6.50354053459023e-34,\n",
       " 2.267461966469279e-24,\n",
       " 1.6962670472895913e-36,\n",
       " 4.047102782657028e-43,\n",
       " 1.199861054674971e-30,\n",
       " 8.066304892495887e-39,\n",
       " 2.677000509023021e-47,\n",
       " 4.782124558880095e-43,\n",
       " 1.3683692883536196e-37,\n",
       " 4.025323406485493e-49,\n",
       " 5.456978401409075e-49,\n",
       " 4.302006747451113e-39,\n",
       " 7.026006752673645e-16,\n",
       " 1.2757577780844196e-32,\n",
       " 3.321583526728474e-21,\n",
       " 1.1274430710513043e-31,\n",
       " 2.6294418657133365e-33,\n",
       " 2.6770077271721127e-40,\n",
       " 4.709443965860878e-29,\n",
       " 4.412971351698345e-21,\n",
       " 2.231410358068428e-18,\n",
       " 1.1482982876549847e-39,\n",
       " 7.170254835112856e-45,\n",
       " 3.374562549736108e-21,\n",
       " 2.121066478382479e-65,\n",
       " 4.2260478956280076e-67,\n",
       " 4.773084658328119e-77,\n",
       " 2.3388504129517275e-23,\n",
       " 9.705089613323566e-30,\n",
       " 6.5670688891153694e-40,\n",
       " 4.7137598110447855e-36,\n",
       " 1.0632187632648468e-38,\n",
       " 3.0640886851124505e-35,\n",
       " 6.075797927303766e-29,\n",
       " 1.7182431574322047e-30,\n",
       " 9.965643406814181e-23,\n",
       " 4.281965437770938e-41,\n",
       " 4.0844298052182256e-53,\n",
       " 7.262021579292837e-53,\n",
       " 3.313797149117559e-48,\n",
       " 3.1630870562878816e-40,\n",
       " 3.8747281979167444e-21,\n",
       " 1.1740283520774718e-46,\n",
       " 1.2784624171336091e-18,\n",
       " 8.88218600863285e-19,\n",
       " 1.8955312986559846e-16,\n",
       " 3.5636391484088495e-22,\n",
       " 2.4795001801253703e-08,\n",
       " 1.205744549917326e-48,\n",
       " 1.4557867436994793e-28,\n",
       " 7.086156589943876e-82,\n",
       " 6.536026868150735e-47,\n",
       " 1.2226059288074102e-44,\n",
       " 1.7692232635396507e-37,\n",
       " 3.891291406614371e-22,\n",
       " 1.567132392920956e-44,\n",
       " 1.4517714134684303e-24,\n",
       " 1.0409303449812837e-55,\n",
       " 1.0252212794437178e-57,\n",
       " 4.7695427582881836e-46,\n",
       " 2.4829085218533018e-34,\n",
       " 8.430977030302937e-48,\n",
       " 1.3971184840874286e-12,\n",
       " 7.8396745260093065e-28,\n",
       " 5.920032402964218e-13,\n",
       " 6.058295964815855e-18,\n",
       " 1.5692769654621517e-13,\n",
       " 1.7247248661158679e-32,\n",
       " 7.805544029745013e-34,\n",
       " 3.1346617855332526e-29,\n",
       " 2.4563343330250206e-22,\n",
       " 5.4599828191479264e-21,\n",
       " 9.468153054013457e-38,\n",
       " 9.926633945348449e-47,\n",
       " 5.252485656279989e-34,\n",
       " 9.414475900855853e-56,\n",
       " 5.187329422224293e-44,\n",
       " 1.1958497263950852e-37,\n",
       " 1.9552355822114342e-26,\n",
       " 2.0218609613405063e-19,\n",
       " 3.59818990256308e-61,\n",
       " 1.328624819731688e-30,\n",
       " 8.34912792665113e-36,\n",
       " 1.6904519613370115e-37,\n",
       " 7.672515370494675e-27,\n",
       " 7.295839872359128e-30,\n",
       " 6.171271996109178e-23,\n",
       " 3.894791871627631e-42,\n",
       " 3.08441532291621e-19,\n",
       " 9.915288956161749e-34,\n",
       " 3.0752434288491084e-19,\n",
       " 2.9993223457351587e-30,\n",
       " 3.7416186621540275e-09,\n",
       " 1.8002874964759887e-11,\n",
       " 1.2264844166922261e-15,\n",
       " 9.130648449611853e-28,\n",
       " 5.142828268941255e-48,\n",
       " 5.003578189105926e-37,\n",
       " 2.0081498412959514e-20,\n",
       " 4.828423530002166e-22,\n",
       " 6.584473165771215e-30,\n",
       " 4.386631112610258e-35,\n",
       " 3.499888175949084e-50,\n",
       " 2.765299545897195e-47,\n",
       " 8.534351675113545e-50,\n",
       " 8.454443070776923e-72,\n",
       " 6.038902248827899e-11,\n",
       " 6.63428383903465e-38,\n",
       " 3.1874672401469974e-33,\n",
       " 2.2233734171431392e-17,\n",
       " 2.543660144296435e-29,\n",
       " 7.231102859326021e-24,\n",
       " 4.9371823036033535e-40,\n",
       " 3.4152542867509476e-33,\n",
       " 3.69186095641402e-40,\n",
       " 1.3266626716981417e-47,\n",
       " 4.355195948271291e-34,\n",
       " 4.8610905340219616e-30,\n",
       " 6.636601061302665e-40,\n",
       " 2.121477994981326e-45,\n",
       " 7.334334596503566e-44,\n",
       " 4.774090458254088e-67,\n",
       " 1.4404219085616665e-17,\n",
       " 2.2293271977016846e-39,\n",
       " 2.7879934441972496e-41,\n",
       " 4.124140105423976e-44,\n",
       " 1.3504019284430856e-27,\n",
       " 1.4703173904843672e-43,\n",
       " 2.390219227398704e-38,\n",
       " 1.661736418592861e-42,\n",
       " 1.5458651528611466e-19,\n",
       " 5.986866846424506e-27,\n",
       " 1.9843683956299494e-17,\n",
       " 9.818281472068046e-34,\n",
       " 1.5467965771131468e-27,\n",
       " 1.3674622502727104e-27,\n",
       " 2.189169177384602e-21,\n",
       " 2.5516584056941568e-43,\n",
       " 1.7591082332402078e-32,\n",
       " 2.971071482192906e-14,\n",
       " 3.524284138505762e-28,\n",
       " 5.6051266289864696e-24,\n",
       " 2.009578125672794e-36,\n",
       " 5.621863037842238e-38,\n",
       " 1.276957444635833e-53,\n",
       " 2.819718446738932e-45,\n",
       " 4.180639724513649e-39,\n",
       " 7.002489847134744e-56,\n",
       " 4.714149799878744e-32,\n",
       " 1.4454590503774272e-26,\n",
       " 1.2959410439958869e-36,\n",
       " 5.518698496826197e-33,\n",
       " 1.3360013336857362e-63,\n",
       " 1.0505246249916704e-29,\n",
       " 7.905477288905336e-38,\n",
       " 1.8656434173945883e-61,\n",
       " 1.115648583944275e-33,\n",
       " 6.088845961004842e-37,\n",
       " 2.3688323693888744e-30,\n",
       " 3.0726612558508314e-18,\n",
       " 9.338909585129395e-31,\n",
       " 2.384133890352231e-19,\n",
       " 1.8985052605201528e-26,\n",
       " 2.2337419653749297e-15,\n",
       " 1.9642354542170776e-16,\n",
       " 2.1188819139864523e-26,\n",
       " 8.64879985980475e-22,\n",
       " 1.405257042055021e-34,\n",
       " 1.0305173227452566e-38,\n",
       " 3.822079439803766e-34,\n",
       " 7.831862446420421e-45,\n",
       " 2.6940469285773944e-33,\n",
       " 3.478017398809209e-31,\n",
       " 1.705240031872821e-56,\n",
       " 5.166244845179155e-24,\n",
       " 4.322784644518053e-31,\n",
       " 1.046983461614185e-60,\n",
       " 1.776900035542536e-43,\n",
       " 2.3378044132194247e-42,\n",
       " 1.2918789119890344e-58,\n",
       " 4.132232470571353e-21,\n",
       " 7.607731712375475e-23,\n",
       " 3.287677640777296e-14,\n",
       " 7.982627960430372e-23,\n",
       " 8.564697723690225e-45,\n",
       " 4.048442369051848e-65,\n",
       " 6.760716930076142e-41,\n",
       " 1.362036342783194e-53,\n",
       " 2.0174344183118437e-25,\n",
       " 6.3606164901479884e-52,\n",
       " 6.896241568884087e-31,\n",
       " 5.497129598008195e-31,\n",
       " 1.2793137395801701e-45,\n",
       " 3.992829890809755e-24,\n",
       " 2.6678701774075947e-28,\n",
       " 6.134008538945299e-50,\n",
       " 2.1216438424186747e-34,\n",
       " 4.257676006636155e-24,\n",
       " 2.6393950028048468e-11,\n",
       " 4.992894579311014e-22,\n",
       " 2.116915281546006e-30,\n",
       " 7.123062541982272e-19,\n",
       " 2.4610819689530024e-19,\n",
       " 4.434482398432136e-11,\n",
       " 4.4720907590184625e-15,\n",
       " 2.5371096885595837e-13,\n",
       " 2.9911915109852664e-27,\n",
       " 5.2015952817162655e-20,\n",
       " 7.170395569317992e-27,\n",
       " 8.725785342549397e-43,\n",
       " 1.664163246235645e-30,\n",
       " 1.633590528698215e-42,\n",
       " 6.616772638874938e-16,\n",
       " 1.2307743308904126e-21,\n",
       " 1.0137456980238415e-33,\n",
       " 1.6711120568972195e-47,\n",
       " 8.781331139203217e-31,\n",
       " 1.8822172928590237e-35,\n",
       " 8.507151129253882e-38,\n",
       " 2.3214298220248295e-22,\n",
       " 9.19404088106687e-25,\n",
       " 3.3956352066669196e-26,\n",
       " 5.62979597677395e-35,\n",
       " 2.9040288838671935e-13,\n",
       " 7.873575711045782e-36,\n",
       " 4.350332930202603e-62,\n",
       " 4.0535610309772253e-42,\n",
       " 6.091848552308966e-56,\n",
       " 4.390283822411655e-26,\n",
       " 3.4101240255762954e-28,\n",
       " 3.705477580880902e-29,\n",
       " 4.904684346814406e-44,\n",
       " 6.4040843377756704e-55,\n",
       " 2.044139185761883e-31,\n",
       " 5.6684648073962865e-11,\n",
       " 4.979175048233658e-35,\n",
       " 9.004864534711201e-27,\n",
       " 1.2020801516404648e-20,\n",
       " 1.0615719608366343e-50,\n",
       " 7.69683692680281e-23,\n",
       " 4.5162435741738155e-18,\n",
       " 9.271409075643009e-39,\n",
       " 9.483811369732307e-19,\n",
       " 7.205263248232253e-21,\n",
       " 6.314156324178233e-37,\n",
       " 5.196069955888479e-19,\n",
       " 1.0361309698791357e-23,\n",
       " 1.3801751833981482e-32,\n",
       " 1.0152817081725797e-13,\n",
       " 1.262502874414268e-30,\n",
       " 1.2607454898139954e-43,\n",
       " 5.261139338082356e-48,\n",
       " 5.785146079133453e-13,\n",
       " 8.9554931417494e-13,\n",
       " 1.7021991219574053e-27,\n",
       " 8.137581252828207e-46,\n",
       " 7.874526016679087e-59,\n",
       " 1.1639059902647266e-26,\n",
       " 3.8681183215397164e-45,\n",
       " 1.3171270043280252e-59,\n",
       " 7.035213594227136e-53,\n",
       " 3.796655691120283e-32,\n",
       " 8.268583508543803e-51,\n",
       " 5.602527331034342e-63,\n",
       " 1.6095682344741034e-46,\n",
       " 7.292241538058025e-38,\n",
       " 3.9090229377024014e-47,\n",
       " 3.826568713136457e-24,\n",
       " 1.3056157619278247e-47,\n",
       " 1.2323530161589874e-19,\n",
       " 1.5696287306058396e-19,\n",
       " 4.150813292251605e-31,\n",
       " 7.37370958610405e-32,\n",
       " 2.61477066797843e-56,\n",
       " 7.468464066731208e-39,\n",
       " 5.1220074280218766e-36,\n",
       " 6.318584092745529e-49,\n",
       " 7.346884684316123e-51,\n",
       " 7.13702107052061e-71,\n",
       " 9.89245922600575e-37,\n",
       " 5.7876941624575223e-36,\n",
       " 7.376221214977229e-12,\n",
       " 3.2789998571040285e-27,\n",
       " 7.420429856676638e-41,\n",
       " 1.9880513472584387e-42,\n",
       " 1.2730355572607726e-12,\n",
       " 1.9301539690202146e-30,\n",
       " 6.289932181946052e-38,\n",
       " 1.1726289700862155e-44,\n",
       " 1.7908802108857452e-36,\n",
       " 6.792152811398529e-33,\n",
       " 1.6458764728409958e-18,\n",
       " 1.363217347541636e-48,\n",
       " 8.4107962953489e-43,\n",
       " 2.3531887197924316e-29,\n",
       " 1.315017528169418e-37,\n",
       " 7.327267326453475e-43,\n",
       " 1.9743802742040225e-30,\n",
       " 2.6609286050324103e-19,\n",
       " 4.691608214603113e-23,\n",
       " 1.2133139971984458e-07,\n",
       " 9.802577567743528e-19,\n",
       " 2.442399761148623e-39,\n",
       " 1.02996856132762e-19,\n",
       " 3.2318805138108087e-43,\n",
       " 2.67524107932373e-32,\n",
       " 1.3708567819543144e-46,\n",
       " 2.9111069782728965e-29,\n",
       " 1.3515062838134688e-28,\n",
       " 9.438155582507213e-29,\n",
       " 4.137493091289835e-30,\n",
       " 6.255002256102633e-29,\n",
       " 1.606151047040234e-36,\n",
       " 1.2598074904943133e-19,\n",
       " 1.579098986616018e-42,\n",
       " 5.657628217459366e-21,\n",
       " 1.3004667890262527e-13,\n",
       " 1.7558681184283502e-36,\n",
       " 1.2725405188007539e-26,\n",
       " 3.577688574176306e-35,\n",
       " 5.191337469786614e-31,\n",
       " 1.5361128721579764e-42,\n",
       " 3.0600962951884807e-64,\n",
       " 1.6186975415755416e-53,\n",
       " 2.7103740212362847e-33,\n",
       " 2.8133960733332817e-18,\n",
       " 2.170863684140047e-47,\n",
       " 4.0696836372567305e-47,\n",
       " 2.8659565437834043e-37,\n",
       " 4.801514602243421e-34,\n",
       " 2.481612530169836e-52,\n",
       " 2.0524560159461383e-56,\n",
       " 7.60093296712035e-37,\n",
       " 7.210717579643618e-26,\n",
       " 1.9047865632199782e-16,\n",
       " 1.314511671395699e-28,\n",
       " 9.93032436881437e-38,\n",
       " 1.6886471560993564e-28,\n",
       " 2.3191127204930475e-52,\n",
       " 7.420629069422145e-24,\n",
       " 3.912543918201296e-34,\n",
       " 5.0182045316475404e-26,\n",
       " 5.142425054563741e-47,\n",
       " 5.160148613541611e-61,\n",
       " 1.2651083839692151e-25,\n",
       " 1.3118489161126033e-25,\n",
       " 2.2147103058927582e-15,\n",
       " 1.8086838591496181e-16,\n",
       " 2.0719090766134477e-48,\n",
       " 3.2105877386063217e-28,\n",
       " 1.0282065919340727e-05,\n",
       " 2.2194050721345757e-34,\n",
       " 3.185136174705112e-56,\n",
       " 2.873254886696026e-23,\n",
       " 9.530056436281916e-26,\n",
       " 1.1945499160339862e-44,\n",
       " 4.283315043999271e-32,\n",
       " 5.757826642798286e-22,\n",
       " 2.6293422316994908e-49,\n",
       " 2.624161280823027e-66,\n",
       " 2.3982647854888716e-51,\n",
       " 3.350150344517691e-20,\n",
       " 2.1017918618739815e-38,\n",
       " 3.4224161916958693e-31,\n",
       " 9.914472163341435e-23,\n",
       " 2.4886776978149175e-30,\n",
       " 2.4520068663248327e-41,\n",
       " 2.6558750094377097e-46,\n",
       " 3.150681526506105e-51,\n",
       " 5.373329393966543e-11,\n",
       " 7.008905204585101e-45,\n",
       " 2.8488749351286728e-58,\n",
       " 4.0185743595391615e-31,\n",
       " 7.73875811281849e-24,\n",
       " 4.815466112414245e-38,\n",
       " 1.1213383634613973e-39,\n",
       " ...]"
      ]
     },
     "execution_count": 341,
     "metadata": {},
     "output_type": "execute_result"
    }
   ],
   "source": [
    "cs1.pop"
   ]
  },
  {
   "cell_type": "code",
   "execution_count": 366,
   "metadata": {
    "collapsed": true
   },
   "outputs": [],
   "source": [
    "def error_random(D, total_N=100_000, P=10):\n",
    "    \n",
    "    def remove_random_container(nremove, cs, fcs):\n",
    "        vols = [x.volume for x in fcs]\n",
    "        vols, a, b = zip(*sorted(zip(vols, cs, fcs), reverse=True))\n",
    "        I = np.zeros(nremove+1)\n",
    "        I[0] = np.sum(a)\n",
    "        arunning = np.sum(a)\n",
    "        total = total_N\n",
    "        nrunning = total_N\n",
    "        for i in range(nremove):\n",
    "            aindex = np.random.randint(0, len(vols))\n",
    "            atemp = a[aindex]\n",
    "            arunning -= atemp\n",
    "            nrunning -= b[aindex].N\n",
    "            I[i + 1] = total / nrunning * arunning\n",
    "        return I\n",
    "\n",
    "    problem = SimpleGaussian(D)\n",
    "    integ = SimpleIntegrator(total_N, P)\n",
    "    G, fcs, cs1 = integ(problem)\n",
    "    I = remove_random_container(len(cs1)-100, cs1, fcs)\n",
    "    return (G-problem.answer)/problem.answer*100, (np.mean(I)-problem.answer)/problem.answer*100"
   ]
  },
  {
   "cell_type": "code",
   "execution_count": 367,
   "metadata": {},
   "outputs": [],
   "source": [
    "nreplicates = 50\n",
    "D=9\n",
    "raw_error1 = np.zeros(nreplicates)\n",
    "corrected_error1=np.zeros(nreplicates)\n",
    "for i in range(nreplicates):\n",
    "    a, b = error_random(D)\n",
    "    raw_error1[i] = a\n",
    "    corrected_error1[i] = b"
   ]
  },
  {
   "cell_type": "code",
   "execution_count": 371,
   "metadata": {},
   "outputs": [
    {
     "data": {
      "image/png": "[encoded data removed]",
      "text/plain": [
       "<Figure size 432x288 with 1 Axes>"
      ]
     },
     "metadata": {
      "needs_background": "light"
     },
     "output_type": "display_data"
    }
   ],
   "source": [
    "plt.hist(raw_error1)\n",
    "plt.hist(corrected_error1)\n",
    "plt.legend([\"Raw % error\", \"Corrected % error\"])\n",
    "plt.show()"
   ]
  },
  {
   "cell_type": "code",
   "execution_count": 375,
   "metadata": {
    "collapsed": true
   },
   "outputs": [],
   "source": [
    "def error_sse(D, total_N=100_000, P=10):\n",
    "    \n",
    "    def remove_sse(nremove, cs, fcs):\n",
    "        vols = [np.std(x.y) for x in fcs]\n",
    "        vols, a, b = zip(*sorted(zip(vols, cs, fcs), reverse=True))\n",
    "        I = np.zeros(nremove+1)\n",
    "        I[0] = np.sum(a)\n",
    "        arunning = np.sum(a)\n",
    "        total = total_N\n",
    "        nrunning = total_N\n",
    "        for i in range(nremove):\n",
    "            aindex = i\n",
    "            atemp = a[aindex]\n",
    "            arunning -= atemp\n",
    "            nrunning -= b[aindex].N\n",
    "            I[i + 1] = total / nrunning * arunning\n",
    "        return I\n",
    "\n",
    "    problem = SimpleGaussian(D)\n",
    "    integ = SimpleIntegrator(total_N, P)\n",
    "    G, fcs, cs1 = integ(problem)\n",
    "    I = remove_sse(len(cs1)-100, cs1, fcs)\n",
    "    return (G-problem.answer)/problem.answer*100, (np.mean(I)-problem.answer)/problem.answer*100"
   ]
  },
  {
   "cell_type": "code",
   "execution_count": 376,
   "metadata": {},
   "outputs": [],
   "source": [
    "nreplicates = 50\n",
    "D=9\n",
    "raw_error2 = np.zeros(nreplicates)\n",
    "corrected_error2=np.zeros(nreplicates)\n",
    "for i in range(nreplicates):\n",
    "    a, b = error_sse(D)\n",
    "    raw_error2[i] = a\n",
    "    corrected_error2[i] = b"
   ]
  },
  {
   "cell_type": "code",
   "execution_count": 377,
   "metadata": {},
   "outputs": [
    {
     "data": {
      "image/png": "[encoded data removed]",
      "text/plain": [
       "<Figure size 432x288 with 1 Axes>"
      ]
     },
     "metadata": {
      "needs_background": "light"
     },
     "output_type": "display_data"
    }
   ],
   "source": [
    "plt.hist(raw_error2)\n",
    "plt.hist(corrected_error2)\n",
    "plt.legend([\"Raw % error\", \"Corrected % error\"])\n",
    "plt.show()"
   ]
  },
  {
   "cell_type": "code",
   "execution_count": 380,
   "metadata": {},
   "outputs": [
    {
     "data": {
      "text/plain": [
       "0.972018794675463"
      ]
     },
     "execution_count": 380,
     "metadata": {},
     "output_type": "execute_result"
    }
   ],
   "source": [
    "np.std(corrected_error2)/np.std(raw_error2)"
   ]
  },
  {
   "cell_type": "code",
   "execution_count": 381,
   "metadata": {},
   "outputs": [
    {
     "data": {
      "text/plain": [
       "7.563622874785084"
      ]
     },
     "execution_count": 381,
     "metadata": {},
     "output_type": "execute_result"
    }
   ],
   "source": [
    "np.std(corrected_error1)/np.std(raw_error1)"
   ]
  },
  {
   "cell_type": "code",
   "execution_count": 382,
   "metadata": {},
   "outputs": [
    {
     "data": {
      "text/plain": [
       "0.43448736524203524"
      ]
     },
     "execution_count": 382,
     "metadata": {},
     "output_type": "execute_result"
    }
   ],
   "source": [
    "np.std(corrected_error)/np.std(raw_error)"
   ]
  },
  {
   "cell_type": "code",
   "execution_count": 383,
   "metadata": {},
   "outputs": [
    {
     "data": {
      "text/plain": [
       "0.5109427632885636"
      ]
     },
     "execution_count": 383,
     "metadata": {},
     "output_type": "execute_result"
    }
   ],
   "source": [
    "np.mean(corrected_error)/np.mean(raw_error)"
   ]
  },
  {
   "cell_type": "markdown",
   "metadata": {},
   "source": [
    "# Measuring effect of peeling using largest container volume"
   ]
  },
  {
   "cell_type": "code",
   "execution_count": 384,
   "metadata": {
    "collapsed": true
   },
   "outputs": [],
   "source": [
    "def error_iterations(D, nreplicates):\n",
    "    raw_error = np.zeros(nreplicates)\n",
    "    corrected_error=np.zeros(nreplicates)\n",
    "    for i in range(nreplicates):\n",
    "        a, b = error(D)\n",
    "        raw_error[i] = a\n",
    "        corrected_error[i] = b\n",
    "    return raw_error, corrected_error"
   ]
  },
  {
   "cell_type": "code",
   "execution_count": 385,
   "metadata": {},
   "outputs": [
    {
     "data": {
      "text/plain": [
       "(array([-0.07294802, -0.15834396]), array([-15.78649076, -16.04900648]))"
      ]
     },
     "execution_count": 385,
     "metadata": {},
     "output_type": "execute_result"
    }
   ],
   "source": [
    "error_iterations(3, 2)"
   ]
  },
  {
   "cell_type": "markdown",
   "metadata": {},
   "source": [
    "# Sampling from posterior defined by containers"
   ]
  },
  {
   "cell_type": "code",
   "execution_count": 949,
   "metadata": {},
   "outputs": [],
   "source": [
    "N = 20_000\n",
    "P = 10\n",
    "\n",
    "problem = SimpleGaussian(5)\n",
    "integ = SimpleIntegrator(N, P)\n",
    "G, fcs, cs1 = integ(problem)\n",
    "I, vols = remove_big_container_vols(len(cs1)-100, cs1, fcs)\n",
    "prob = cs1 / np.sum(cs1)\n",
    "sample_conts = np.random.choice(fcs, 10000, p=prob)\n",
    "samples = [x.rvs(1) for x in sample_conts]\n",
    "samples = np.vstack(samples)\n",
    "smaller = integ._X[1:10000]"
   ]
  },
  {
   "cell_type": "code",
   "execution_count": 950,
   "metadata": {},
   "outputs": [
    {
     "name": "stdout",
     "output_type": "stream",
     "text": [
      "-1.2646762877034035\n"
     ]
    }
   ],
   "source": [
    "print(100 * (G - problem.answer) / problem.answer)"
   ]
  },
  {
   "cell_type": "code",
   "execution_count": 951,
   "metadata": {},
   "outputs": [
    {
     "data": {
      "image/png": "[encoded data removed]",
      "text/plain": [
       "<Figure size 432x288 with 1 Axes>"
      ]
     },
     "metadata": {
      "needs_background": "light"
     },
     "output_type": "display_data"
    }
   ],
   "source": [
    "plt.hist(samples[:, 1],100)\n",
    "plt.hist(smaller[:, 1],100)\n",
    "plt.show()"
   ]
  },
  {
   "cell_type": "code",
   "execution_count": 952,
   "metadata": {},
   "outputs": [
    {
     "data": {
      "image/png": "[encoded data removed]",
      "text/plain": [
       "<Figure size 432x288 with 1 Axes>"
      ]
     },
     "metadata": {
      "needs_background": "light"
     },
     "output_type": "display_data"
    }
   ],
   "source": [
    "plt.scatter(samples[:, 0], samples[:, 1], alpha=0.2)\n",
    "plt.show()"
   ]
  },
  {
   "cell_type": "code",
   "execution_count": 954,
   "metadata": {},
   "outputs": [
    {
     "data": {
      "image/png": "[encoded data removed]",
      "text/plain": [
       "<Figure size 432x288 with 1 Axes>"
      ]
     },
     "metadata": {
      "needs_background": "light"
     },
     "output_type": "display_data"
    }
   ],
   "source": [
    "plt.scatter(smaller[:, 0], smaller[:, 1], alpha=0.2)\n",
    "plt.xlim(-1, 1)\n",
    "plt.ylim(-1, 1)\n",
    "plt.show()"
   ]
  },
  {
   "cell_type": "code",
   "execution_count": 955,
   "metadata": {},
   "outputs": [
    {
     "data": {
      "text/plain": [
       "0.07137452114868034"
      ]
     },
     "execution_count": 955,
     "metadata": {},
     "output_type": "execute_result"
    }
   ],
   "source": [
    "np.std(smaller[:, 0])"
   ]
  },
  {
   "cell_type": "code",
   "execution_count": 956,
   "metadata": {},
   "outputs": [
    {
     "data": {
      "text/plain": [
       "0.39763782409541326"
      ]
     },
     "execution_count": 956,
     "metadata": {},
     "output_type": "execute_result"
    }
   ],
   "source": [
    "np.std(samples[:, 0])"
   ]
  },
  {
   "cell_type": "code",
   "execution_count": 957,
   "metadata": {},
   "outputs": [
    {
     "data": {
      "text/plain": [
       "0.07071067811865475"
      ]
     },
     "execution_count": 957,
     "metadata": {},
     "output_type": "execute_result"
    }
   ],
   "source": [
    "np.sqrt(1/200)"
   ]
  },
  {
   "cell_type": "code",
   "execution_count": null,
   "metadata": {
    "collapsed": true
   },
   "outputs": [],
   "source": []
  }
 ],
 "metadata": {
  "kernelspec": {
   "display_name": "Python 3",
   "language": "python",
   "name": "python3"
  },
  "language_info": {
   "codemirror_mode": {
    "name": "ipython",
    "version": 3
   },
   "file_extension": ".py",
   "mimetype": "text/x-python",
   "name": "python",
   "nbconvert_exporter": "python",
   "pygments_lexer": "ipython3",
   "version": "3.7.7"
  }
 },
 "nbformat": 4,
 "nbformat_minor": 4
}
