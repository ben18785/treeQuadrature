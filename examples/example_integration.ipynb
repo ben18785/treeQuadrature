{
 "cells": [
  {
   "cell_type": "code",
   "execution_count": 1,
   "metadata": {
    "collapsed": true
   },
   "outputs": [],
   "source": [
    "import numpy as np\n",
    "import treeQuadrature as tq"
   ]
  },
  {
   "cell_type": "code",
   "execution_count": 2,
   "metadata": {
    "collapsed": true
   },
   "outputs": [],
   "source": [
    "class SimpleGaussian:\n",
    "    '''\n",
    "    Likelihood: N(0, 1/(10*sqrt(2)))\n",
    "    Prior: U(-1, 1)\n",
    "    '''\n",
    "    def __init__(self, D):\n",
    "        self.D = D\n",
    "        self.d = tq.exampleDistributions.MultivariateNormal(D=D, mean=[0.0]*D, cov=1/200)\n",
    "        self.low = -1.0\n",
    "        self.high = 1.0\n",
    "        self.p = tq.exampleDistributions.Uniform(D=D, low=self.low, high=self.high)\n",
    "        \n",
    "        # Calculate truth\n",
    "        self.answer = 1/(2.0**D)\n",
    "        \n",
    "    def pdf(self, X):\n",
    "        # Combined pdf ie d(x)*p(x)\n",
    "        return self.d.pdf(X) * self.p.pdf(X)"
   ]
  },
  {
   "cell_type": "markdown",
   "metadata": {},
   "source": [
    "$$ \\int_{-1}^{1}d(x)p(x) dx $$"
   ]
  },
  {
   "cell_type": "markdown",
   "metadata": {},
   "source": [
    "$$ 1/(2^D) \\cdot \\int_{-1}^{1}d(x) dx $$"
   ]
  },
  {
   "cell_type": "code",
   "execution_count": 12,
   "metadata": {
    "collapsed": true
   },
   "outputs": [],
   "source": [
    "from queue import SimpleQueue\n",
    "\n",
    "# Define the Integrator we gonna be testing today\n",
    "class SimpleIntegrator:\n",
    "    '''\n",
    "    A simple integrator has the following pattern:\n",
    "        - Draw <N> samples\n",
    "        - Keep performing <split> method on containers...\n",
    "        - ...until each container has less than <P> samples\n",
    "        - Then perform  <integral> on each container and sum.\n",
    "    '''\n",
    "    \n",
    "    def __init__(self, N, P):\n",
    "        self.N = N\n",
    "        self.P = P\n",
    "        \n",
    "    def __call__(self, problem):        \n",
    "        # Draw samples\n",
    "        X = problem.d.rvs(self.N)\n",
    "        self._X = X\n",
    "        y = problem.pdf(X)\n",
    "        \n",
    "        # Construct root container\n",
    "        D = problem.D\n",
    "        root = tq.Container(X, y, mins=[problem.low]*D, maxs=[problem.high]*D)\n",
    "        \n",
    "        # Contstruct tree using a FIFO queue\n",
    "        finished_containers = []\n",
    "        q = SimpleQueue()\n",
    "        q.put(root)\n",
    "\n",
    "        while not q.empty():\n",
    "\n",
    "            c = q.get()\n",
    "\n",
    "            if c.N <= self.P:\n",
    "                finished_containers.append(c)\n",
    "            else:\n",
    "                children = tq.splits.kdSplit(c)\n",
    "                for child in children:\n",
    "                    q.put(child)\n",
    "\n",
    "        # Integrate containers\n",
    "        contributions = [tq.containerIntegration.randomIntegral(cont, problem.pdf, n=40) for cont in finished_containers]\n",
    "        G = np.sum(contributions)\n",
    "        \n",
    "        return G, finished_containers, contributions"
   ]
  },
  {
   "cell_type": "code",
   "execution_count": 122,
   "metadata": {
    "collapsed": true
   },
   "outputs": [],
   "source": [
    "N = 100_000\n",
    "P = 10\n",
    "\n",
    "problem = SimpleGaussian(10)\n",
    "integ = SimpleIntegrator(N, P)\n",
    "G, fcs, cs1 = integ(problem)"
   ]
  },
  {
   "cell_type": "code",
   "execution_count": 124,
   "metadata": {},
   "outputs": [
    {
     "name": "stdout",
     "output_type": "stream",
     "text": [
      "pcntError: -97.09914430986926\n"
     ]
    }
   ],
   "source": [
    "import matplotlib.pyplot as plt\n",
    "from matplotlib import cm\n",
    "\n",
    "# fig = plt.figure(figsize=(8,8))\n",
    "# ax = fig.add_subplot()\n",
    "# ax.set_xlim([-0.3,0.3])\n",
    "# ax.set_ylim([-0.3,0.3])\n",
    "# cmap = cm.get_cmap('YlOrRd', 256)\n",
    "\n",
    "cs = tq.utils.scale(cs1)\n",
    "\n",
    "print(f'pcntError: {100 * (G - problem.answer) / problem.answer}')\n",
    "\n",
    "# for container, contribution in zip(fcs, cs):\n",
    "#     tq.visualisation.plotContainer(ax, container, plot_samples=False, fill=True, ec='black', facecolor=cmap(contribution), alpha=0.4)"
   ]
  },
  {
   "cell_type": "code",
   "execution_count": 186,
   "metadata": {
    "collapsed": true
   },
   "outputs": [],
   "source": [
    "def remove_small(nremove, cs, fcs):\n",
    "    a, b = zip(*sorted(zip(cs, fcs)))\n",
    "    I = np.zeros(nremove+1)\n",
    "    I[0] = np.sum(a)\n",
    "    arunning = np.sum(a)\n",
    "    total = 100_000\n",
    "    nrunning = 100_000\n",
    "    for i in range(nremove):\n",
    "        atemp = a[i]\n",
    "        arunning -= atemp\n",
    "        nrunning -= b[i].N\n",
    "        I[i + 1] = total / nrunning * arunning\n",
    "    return I"
   ]
  },
  {
   "cell_type": "code",
   "execution_count": 174,
   "metadata": {},
   "outputs": [
    {
     "data": {
      "text/plain": [
       "0.0009765625"
      ]
     },
     "execution_count": 174,
     "metadata": {},
     "output_type": "execute_result"
    }
   ],
   "source": [
    "problem.answer"
   ]
  },
  {
   "cell_type": "code",
   "execution_count": 187,
   "metadata": {},
   "outputs": [
    {
     "data": {
      "image/png": "[encoded data removed]",
      "text/plain": [
       "<Figure size 432x288 with 1 Axes>"
      ]
     },
     "metadata": {
      "needs_background": "light"
     },
     "output_type": "display_data"
    }
   ],
   "source": [
    "plt.plot(remove_small(16000, cs1, fcs))\n",
    "plt.show()"
   ]
  },
  {
   "cell_type": "code",
   "execution_count": 157,
   "metadata": {},
   "outputs": [
    {
     "data": {
      "text/plain": [
       "2.8328668848933097e-05"
      ]
     },
     "execution_count": 157,
     "metadata": {},
     "output_type": "execute_result"
    }
   ],
   "source": [
    "G"
   ]
  },
  {
   "cell_type": "code",
   "execution_count": null,
   "metadata": {
    "collapsed": true
   },
   "outputs": [],
   "source": []
  }
 ],
 "metadata": {
  "kernelspec": {
   "display_name": "Python 3",
   "language": "python",
   "name": "python3"
  },
  "language_info": {
   "codemirror_mode": {
    "name": "ipython",
    "version": 3
   },
   "file_extension": ".py",
   "mimetype": "text/x-python",
   "name": "python",
   "nbconvert_exporter": "python",
   "pygments_lexer": "ipython3",
   "version": "3.7.7"
  }
 },
 "nbformat": 4,
 "nbformat_minor": 4
}
