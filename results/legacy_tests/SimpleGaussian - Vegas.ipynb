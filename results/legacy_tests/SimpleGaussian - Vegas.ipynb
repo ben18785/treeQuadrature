{
 "cells": [
  {
   "cell_type": "code",
   "execution_count": 120,
   "metadata": {},
   "outputs": [],
   "source": [
    "import vegas\n",
    "\n",
    "import numpy as np\n",
    "import pandas as pd\n",
    "import matplotlib.pyplot as plt\n",
    "\n",
    "from tqdm import tqdm\n",
    "from datetime import datetime\n",
    "from problems import SimpleGaussian"
   ]
  },
  {
   "cell_type": "code",
   "execution_count": 121,
   "metadata": {},
   "outputs": [],
   "source": [
    "NEVAL = 10_000  # num samples to draw\n",
    "NITN = 10 # num importance shift iterations for vegas to perform\n",
    "T = 50 # Num tests per dimension to get std of errors\n",
    "\n",
    "Ds = list(range(1,11))"
   ]
  },
  {
   "cell_type": "code",
   "execution_count": 122,
   "metadata": {},
   "outputs": [],
   "source": [
    "results = pd.DataFrame(index=Ds, columns=['pcntError_mean', 'pcntError_std','time_mean', 'time_std', 'N_mean', 'N_std'])"
   ]
  },
  {
   "cell_type": "code",
   "execution_count": 123,
   "metadata": {},
   "outputs": [],
   "source": [
    "class ShapeAdapter:\n",
    "    def __init__(self, f):\n",
    "        self.f = f\n",
    "    def __call__(self, X):\n",
    "        return self.f(X)[0,0]"
   ]
  },
  {
   "cell_type": "code",
   "execution_count": 124,
   "metadata": {},
   "outputs": [],
   "source": [
    "D = 3\n",
    "problem = SimpleGaussian(D)\n",
    "start_time = datetime.now()\n",
    "\n",
    "# Perform integration\n",
    "integ = vegas.Integrator([[-1.0, 1.0]]*D)\n",
    "f = ShapeAdapter(problem.pdf)\n",
    "I_hat = integ(f, nitn=NITN, neval=NEVAL)"
   ]
  },
  {
   "cell_type": "code",
   "execution_count": 125,
   "metadata": {},
   "outputs": [],
   "source": [
    "def vegas_test(D):\n",
    "    d = {}\n",
    "    problem = SimpleGaussian(D)\n",
    "    start_time = datetime.now()\n",
    "\n",
    "    # Perform integration\n",
    "    integ = vegas.Integrator([[-1.0, 1.0]]*D)\n",
    "    f = ShapeAdapter(problem.pdf)\n",
    "    I_hat = integ(f, nitn=NITN, neval=NEVAL).mean\n",
    "    \n",
    "    end_time = datetime.now()\n",
    "    d['N'] = NEVAL * NITN\n",
    "    d['pcntError'] = 100 * (I_hat - problem.answer) / problem.answer\n",
    "    d['time'] =  (end_time - start_time).total_seconds()\n",
    "    return d"
   ]
  },
  {
   "cell_type": "code",
   "execution_count": 126,
   "metadata": {},
   "outputs": [
    {
     "name": "stderr",
     "output_type": "stream",
     "text": [
      "100%|██████████| 10/10 [28:56<00:00, 173.63s/it]\n"
     ]
    }
   ],
   "source": [
    "for D in tqdm(Ds):\n",
    "    experiments = [vegas_test(D) for t in range(T)]\n",
    "    experiments = pd.DataFrame(experiments, columns=['pcntError', 'N', 'time'])\n",
    "    results.loc[D, 'pcntError_mean'] = experiments['pcntError'].mean()\n",
    "    results.loc[D, 'pcntError_std'] = experiments['pcntError'].std()\n",
    "    results.loc[D, 'time_mean'] = experiments['time'].mean()\n",
    "    results.loc[D, 'time_std'] = experiments['time'].std()\n",
    "    results.loc[D, 'N_mean'] = experiments['N'].mean()\n",
    "    results.loc[D, 'N_std'] = experiments['N'].std()"
   ]
  },
  {
   "cell_type": "code",
   "execution_count": 127,
   "metadata": {},
   "outputs": [
    {
     "data": {
      "text/html": [
       "<div>\n",
       "<style scoped>\n",
       "    .dataframe tbody tr th:only-of-type {\n",
       "        vertical-align: middle;\n",
       "    }\n",
       "\n",
       "    .dataframe tbody tr th {\n",
       "        vertical-align: top;\n",
       "    }\n",
       "\n",
       "    .dataframe thead th {\n",
       "        text-align: right;\n",
       "    }\n",
       "</style>\n",
       "<table border=\"1\" class=\"dataframe\">\n",
       "  <thead>\n",
       "    <tr style=\"text-align: right;\">\n",
       "      <th></th>\n",
       "      <th>pcntError_mean</th>\n",
       "      <th>pcntError_std</th>\n",
       "      <th>time_mean</th>\n",
       "      <th>time_std</th>\n",
       "      <th>N_mean</th>\n",
       "      <th>N_std</th>\n",
       "    </tr>\n",
       "  </thead>\n",
       "  <tbody>\n",
       "    <tr>\n",
       "      <th>1</th>\n",
       "      <td>5.73447e-05</td>\n",
       "      <td>0.000528302</td>\n",
       "      <td>3.15197</td>\n",
       "      <td>0.449206</td>\n",
       "      <td>100000</td>\n",
       "      <td>0</td>\n",
       "    </tr>\n",
       "    <tr>\n",
       "      <th>2</th>\n",
       "      <td>-0.00274509</td>\n",
       "      <td>0.0450553</td>\n",
       "      <td>3.54211</td>\n",
       "      <td>0.245434</td>\n",
       "      <td>100000</td>\n",
       "      <td>0</td>\n",
       "    </tr>\n",
       "    <tr>\n",
       "      <th>3</th>\n",
       "      <td>-0.0144903</td>\n",
       "      <td>0.194791</td>\n",
       "      <td>3.34578</td>\n",
       "      <td>0.138635</td>\n",
       "      <td>100000</td>\n",
       "      <td>0</td>\n",
       "    </tr>\n",
       "    <tr>\n",
       "      <th>4</th>\n",
       "      <td>-0.151199</td>\n",
       "      <td>0.40444</td>\n",
       "      <td>3.39686</td>\n",
       "      <td>0.32114</td>\n",
       "      <td>100000</td>\n",
       "      <td>0</td>\n",
       "    </tr>\n",
       "    <tr>\n",
       "      <th>5</th>\n",
       "      <td>-20.512</td>\n",
       "      <td>33.2674</td>\n",
       "      <td>3.11896</td>\n",
       "      <td>0.243822</td>\n",
       "      <td>100000</td>\n",
       "      <td>0</td>\n",
       "    </tr>\n",
       "    <tr>\n",
       "      <th>6</th>\n",
       "      <td>-56.6837</td>\n",
       "      <td>43.117</td>\n",
       "      <td>3.1845</td>\n",
       "      <td>0.147032</td>\n",
       "      <td>100000</td>\n",
       "      <td>0</td>\n",
       "    </tr>\n",
       "    <tr>\n",
       "      <th>7</th>\n",
       "      <td>-92.1625</td>\n",
       "      <td>24.1117</td>\n",
       "      <td>3.10109</td>\n",
       "      <td>0.206191</td>\n",
       "      <td>100000</td>\n",
       "      <td>0</td>\n",
       "    </tr>\n",
       "    <tr>\n",
       "      <th>8</th>\n",
       "      <td>-99.9998</td>\n",
       "      <td>0.00045086</td>\n",
       "      <td>3.58026</td>\n",
       "      <td>0.114255</td>\n",
       "      <td>100000</td>\n",
       "      <td>0</td>\n",
       "    </tr>\n",
       "    <tr>\n",
       "      <th>9</th>\n",
       "      <td>-100</td>\n",
       "      <td>4.70111e-05</td>\n",
       "      <td>4.20623</td>\n",
       "      <td>0.184723</td>\n",
       "      <td>100000</td>\n",
       "      <td>0</td>\n",
       "    </tr>\n",
       "    <tr>\n",
       "      <th>10</th>\n",
       "      <td>-100</td>\n",
       "      <td>1.09779e-09</td>\n",
       "      <td>4.09418</td>\n",
       "      <td>0.45254</td>\n",
       "      <td>100000</td>\n",
       "      <td>0</td>\n",
       "    </tr>\n",
       "  </tbody>\n",
       "</table>\n",
       "</div>"
      ],
      "text/plain": [
       "   pcntError_mean pcntError_std time_mean  time_std  N_mean N_std\n",
       "1     5.73447e-05   0.000528302   3.15197  0.449206  100000     0\n",
       "2     -0.00274509     0.0450553   3.54211  0.245434  100000     0\n",
       "3      -0.0144903      0.194791   3.34578  0.138635  100000     0\n",
       "4       -0.151199       0.40444   3.39686   0.32114  100000     0\n",
       "5         -20.512       33.2674   3.11896  0.243822  100000     0\n",
       "6        -56.6837        43.117    3.1845  0.147032  100000     0\n",
       "7        -92.1625       24.1117   3.10109  0.206191  100000     0\n",
       "8        -99.9998    0.00045086   3.58026  0.114255  100000     0\n",
       "9            -100   4.70111e-05   4.20623  0.184723  100000     0\n",
       "10           -100   1.09779e-09   4.09418   0.45254  100000     0"
      ]
     },
     "execution_count": 127,
     "metadata": {},
     "output_type": "execute_result"
    }
   ],
   "source": [
    "results"
   ]
  },
  {
   "cell_type": "code",
   "execution_count": 132,
   "metadata": {},
   "outputs": [],
   "source": [
    "# results.to_csv('./SimpleGaussian_Vegas.csv')"
   ]
  },
  {
   "cell_type": "code",
   "execution_count": 129,
   "metadata": {},
   "outputs": [],
   "source": [
    "def plot_column(column, color):\n",
    "    y1 = list(results[column+'_mean'] - results[column+'_std'])\n",
    "    y2 = list(results[column+'_mean'])\n",
    "    y3 = list(results[column+'_mean'] + results[column+'_std'])\n",
    "    plt.plot(Ds, y2, color=color)\n",
    "    plt.fill_between(Ds, y1, y3, color=color, alpha=0.3)"
   ]
  },
  {
   "cell_type": "code",
   "execution_count": 130,
   "metadata": {},
   "outputs": [
    {
     "data": {
      "text/plain": [
       "Text(0.5, 1.0, 'Percentage Error vs Dimension')"
      ]
     },
     "execution_count": 130,
     "metadata": {},
     "output_type": "execute_result"
    },
    {
     "data": {
      "image/png": "[encoded data removed]",
      "text/plain": [
       "<Figure size 432x288 with 1 Axes>"
      ]
     },
     "metadata": {
      "needs_background": "light"
     },
     "output_type": "display_data"
    }
   ],
   "source": [
    "plot_column('pcntError', 'blue')\n",
    "plt.ylim([-100,100])\n",
    "plt.title('Percentage Error vs Dimension')"
   ]
  },
  {
   "cell_type": "code",
   "execution_count": 131,
   "metadata": {},
   "outputs": [
    {
     "data": {
      "text/plain": [
       "Text(0.5, 1.0, 'Time Taken(seconds) vs Dimension')"
      ]
     },
     "execution_count": 131,
     "metadata": {},
     "output_type": "execute_result"
    },
    {
     "data": {
      "image/png": "[encoded data removed]",
      "text/plain": [
       "<Figure size 432x288 with 1 Axes>"
      ]
     },
     "metadata": {
      "needs_background": "light"
     },
     "output_type": "display_data"
    }
   ],
   "source": [
    "plot_column('time', 'red')\n",
    "plt.title('Time Taken(seconds) vs Dimension')"
   ]
  }
 ],
 "metadata": {
  "kernelspec": {
   "display_name": "Python 3",
   "language": "python",
   "name": "python3"
  },
  "language_info": {
   "codemirror_mode": {
    "name": "ipython",
    "version": 3
   },
   "file_extension": ".py",
   "mimetype": "text/x-python",
   "name": "python",
   "nbconvert_exporter": "python",
   "pygments_lexer": "ipython3",
   "version": "3.7.0"
  }
 },
 "nbformat": 4,
 "nbformat_minor": 4
}
