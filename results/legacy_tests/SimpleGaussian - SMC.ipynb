{
 "cells": [
  {
   "cell_type": "code",
   "execution_count": 1,
   "metadata": {},
   "outputs": [],
   "source": [
    "import numpy as np\n",
    "import pandas as pd\n",
    "import matplotlib.pyplot as plt\n",
    "\n",
    "from tqdm import tqdm\n",
    "from datetime import datetime\n",
    "from problems import SimpleGaussian"
   ]
  },
  {
   "cell_type": "code",
   "execution_count": 2,
   "metadata": {},
   "outputs": [],
   "source": [
    "N = 10_000_000  # num samples to draw\n",
    "T = 50 # Num tests per dimension\n",
    "Ds = list(range(1,11))"
   ]
  },
  {
   "cell_type": "code",
   "execution_count": 3,
   "metadata": {},
   "outputs": [],
   "source": [
    "results = pd.DataFrame(index=Ds, columns=['pcntError_mean', 'pcntError_std','time_mean', 'time_std', 'N_mean', 'N_std'])"
   ]
  },
  {
   "cell_type": "code",
   "execution_count": 4,
   "metadata": {},
   "outputs": [],
   "source": [
    "def smc_test(D):\n",
    "    d = {}\n",
    "    problem = SimpleGaussian(D)\n",
    "    start_time = datetime.now()\n",
    "    xs = problem.p.rvs(N)\n",
    "    ys = problem.d.pdf(xs).reshape(-1)\n",
    "    I_hat = np.mean(ys)\n",
    "    end_time = datetime.now()\n",
    "    d['N'] = N\n",
    "    d['pcntError'] = 100 * (I_hat - problem.answer) / problem.answer\n",
    "    d['time'] =  (end_time - start_time).total_seconds()\n",
    "    return d"
   ]
  },
  {
   "cell_type": "code",
   "execution_count": 5,
   "metadata": {},
   "outputs": [
    {
     "name": "stderr",
     "output_type": "stream",
     "text": [
      "100%|██████████| 10/10 [09:56<00:00, 59.66s/it]\n"
     ]
    }
   ],
   "source": [
    "for D in tqdm(Ds):\n",
    "    experiments = [smc_test(D) for t in range(T)]\n",
    "    experiments = pd.DataFrame(experiments, columns=['pcntError', 'N', 'time'])\n",
    "    results.loc[D, 'pcntError_mean'] = experiments['pcntError'].mean()\n",
    "    results.loc[D, 'pcntError_std'] = experiments['pcntError'].std()\n",
    "    results.loc[D, 'time_mean'] = experiments['time'].mean()\n",
    "    results.loc[D, 'time_std'] = experiments['time'].std()\n",
    "    results.loc[D, 'N_mean'] = experiments['N'].mean()\n",
    "    results.loc[D, 'N_std'] = experiments['N'].std()"
   ]
  },
  {
   "cell_type": "code",
   "execution_count": 6,
   "metadata": {},
   "outputs": [
    {
     "data": {
      "text/html": [
       "<div>\n",
       "<style scoped>\n",
       "    .dataframe tbody tr th:only-of-type {\n",
       "        vertical-align: middle;\n",
       "    }\n",
       "\n",
       "    .dataframe tbody tr th {\n",
       "        vertical-align: top;\n",
       "    }\n",
       "\n",
       "    .dataframe thead th {\n",
       "        text-align: right;\n",
       "    }\n",
       "</style>\n",
       "<table border=\"1\" class=\"dataframe\">\n",
       "  <thead>\n",
       "    <tr style=\"text-align: right;\">\n",
       "      <th></th>\n",
       "      <th>pcntError_mean</th>\n",
       "      <th>pcntError_std</th>\n",
       "      <th>time_mean</th>\n",
       "      <th>time_std</th>\n",
       "      <th>N_mean</th>\n",
       "      <th>N_std</th>\n",
       "    </tr>\n",
       "  </thead>\n",
       "  <tbody>\n",
       "    <tr>\n",
       "      <th>1</th>\n",
       "      <td>-0.0021023</td>\n",
       "      <td>0.0812414</td>\n",
       "      <td>0.346355</td>\n",
       "      <td>0.00965581</td>\n",
       "      <td>1e+07</td>\n",
       "      <td>0</td>\n",
       "    </tr>\n",
       "    <tr>\n",
       "      <th>2</th>\n",
       "      <td>-0.0630439</td>\n",
       "      <td>0.236626</td>\n",
       "      <td>0.766278</td>\n",
       "      <td>0.0846446</td>\n",
       "      <td>1e+07</td>\n",
       "      <td>0</td>\n",
       "    </tr>\n",
       "    <tr>\n",
       "      <th>3</th>\n",
       "      <td>0.318212</td>\n",
       "      <td>0.735666</td>\n",
       "      <td>0.914731</td>\n",
       "      <td>0.168117</td>\n",
       "      <td>1e+07</td>\n",
       "      <td>0</td>\n",
       "    </tr>\n",
       "    <tr>\n",
       "      <th>4</th>\n",
       "      <td>-0.107236</td>\n",
       "      <td>2.12495</td>\n",
       "      <td>0.953843</td>\n",
       "      <td>0.0485126</td>\n",
       "      <td>1e+07</td>\n",
       "      <td>0</td>\n",
       "    </tr>\n",
       "    <tr>\n",
       "      <th>5</th>\n",
       "      <td>-0.907543</td>\n",
       "      <td>4.76906</td>\n",
       "      <td>1.15533</td>\n",
       "      <td>0.108609</td>\n",
       "      <td>1e+07</td>\n",
       "      <td>0</td>\n",
       "    </tr>\n",
       "    <tr>\n",
       "      <th>6</th>\n",
       "      <td>-3.25213</td>\n",
       "      <td>15.8657</td>\n",
       "      <td>1.20608</td>\n",
       "      <td>0.0253185</td>\n",
       "      <td>1e+07</td>\n",
       "      <td>0</td>\n",
       "    </tr>\n",
       "    <tr>\n",
       "      <th>7</th>\n",
       "      <td>5.33065</td>\n",
       "      <td>40.641</td>\n",
       "      <td>1.49403</td>\n",
       "      <td>0.155307</td>\n",
       "      <td>1e+07</td>\n",
       "      <td>0</td>\n",
       "    </tr>\n",
       "    <tr>\n",
       "      <th>8</th>\n",
       "      <td>9.69361</td>\n",
       "      <td>170.446</td>\n",
       "      <td>1.52286</td>\n",
       "      <td>0.0679167</td>\n",
       "      <td>1e+07</td>\n",
       "      <td>0</td>\n",
       "    </tr>\n",
       "    <tr>\n",
       "      <th>9</th>\n",
       "      <td>-42.8578</td>\n",
       "      <td>162.633</td>\n",
       "      <td>1.69384</td>\n",
       "      <td>0.0934087</td>\n",
       "      <td>1e+07</td>\n",
       "      <td>0</td>\n",
       "    </tr>\n",
       "    <tr>\n",
       "      <th>10</th>\n",
       "      <td>-29.4033</td>\n",
       "      <td>198.99</td>\n",
       "      <td>1.86377</td>\n",
       "      <td>0.134223</td>\n",
       "      <td>1e+07</td>\n",
       "      <td>0</td>\n",
       "    </tr>\n",
       "  </tbody>\n",
       "</table>\n",
       "</div>"
      ],
      "text/plain": [
       "   pcntError_mean pcntError_std time_mean    time_std N_mean N_std\n",
       "1      -0.0021023     0.0812414  0.346355  0.00965581  1e+07     0\n",
       "2      -0.0630439      0.236626  0.766278   0.0846446  1e+07     0\n",
       "3        0.318212      0.735666  0.914731    0.168117  1e+07     0\n",
       "4       -0.107236       2.12495  0.953843   0.0485126  1e+07     0\n",
       "5       -0.907543       4.76906   1.15533    0.108609  1e+07     0\n",
       "6        -3.25213       15.8657   1.20608   0.0253185  1e+07     0\n",
       "7         5.33065        40.641   1.49403    0.155307  1e+07     0\n",
       "8         9.69361       170.446   1.52286   0.0679167  1e+07     0\n",
       "9        -42.8578       162.633   1.69384   0.0934087  1e+07     0\n",
       "10       -29.4033        198.99   1.86377    0.134223  1e+07     0"
      ]
     },
     "execution_count": 6,
     "metadata": {},
     "output_type": "execute_result"
    }
   ],
   "source": [
    "results"
   ]
  },
  {
   "cell_type": "code",
   "execution_count": 7,
   "metadata": {},
   "outputs": [],
   "source": [
    "# results.to_csv('./SimpleGaussian_SMC.csv')"
   ]
  },
  {
   "cell_type": "code",
   "execution_count": 8,
   "metadata": {},
   "outputs": [],
   "source": [
    "def plot_column(column, color):\n",
    "    y1 = list(results[column+'_mean'] - results[column+'_std'])\n",
    "    y2 = list(results[column+'_mean'])\n",
    "    y3 = list(results[column+'_mean'] + results[column+'_std'])\n",
    "    plt.plot(Ds, y2, color=color)\n",
    "    plt.fill_between(Ds, y1, y3, color=color, alpha=0.3)"
   ]
  },
  {
   "cell_type": "code",
   "execution_count": 9,
   "metadata": {},
   "outputs": [
    {
     "data": {
      "text/plain": [
       "Text(0.5, 1.0, 'Percentage Error vs Dimension')"
      ]
     },
     "execution_count": 9,
     "metadata": {},
     "output_type": "execute_result"
    },
    {
     "data": {
      "image/png": "[encoded data removed]",
      "text/plain": [
       "<Figure size 432x288 with 1 Axes>"
      ]
     },
     "metadata": {
      "needs_background": "light"
     },
     "output_type": "display_data"
    }
   ],
   "source": [
    "plot_column('pcntError', 'blue')\n",
    "plt.ylim([-100,100])\n",
    "plt.title('Percentage Error vs Dimension')"
   ]
  },
  {
   "cell_type": "code",
   "execution_count": 10,
   "metadata": {},
   "outputs": [
    {
     "data": {
      "text/plain": [
       "Text(0.5, 1.0, 'Time Taken(seconds) vs Dimension')"
      ]
     },
     "execution_count": 10,
     "metadata": {},
     "output_type": "execute_result"
    },
    {
     "data": {
      "image/png": "[encoded data removed]",
      "text/plain": [
       "<Figure size 432x288 with 1 Axes>"
      ]
     },
     "metadata": {
      "needs_background": "light"
     },
     "output_type": "display_data"
    }
   ],
   "source": [
    "plot_column('time', 'red')\n",
    "plt.title('Time Taken(seconds) vs Dimension')"
   ]
  }
 ],
 "metadata": {
  "kernelspec": {
   "display_name": "Python 3",
   "language": "python",
   "name": "python3"
  },
  "language_info": {
   "codemirror_mode": {
    "name": "ipython",
    "version": 3
   },
   "file_extension": ".py",
   "mimetype": "text/x-python",
   "name": "python",
   "nbconvert_exporter": "python",
   "pygments_lexer": "ipython3",
   "version": "3.7.0"
  }
 },
 "nbformat": 4,
 "nbformat_minor": 4
}
